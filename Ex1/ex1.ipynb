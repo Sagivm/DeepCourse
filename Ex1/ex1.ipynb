{
 "nbformat": 4,
 "nbformat_minor": 0,
 "metadata": {
  "colab": {
   "provenance": [],
   "authorship_tag": "ABX9TyNTn65kxBDiZiIHPKjhSHHz"
  },
  "kernelspec": {
   "name": "python3",
   "language": "python",
   "display_name": "Python 3 (ipykernel)"
  },
  "language_info": {
   "name": "python"
  }
 },
 "cells": [
  {
   "cell_type": "markdown",
   "source": [
    "# Deep Learning - Assigment 1\n",
    "\n",
    "Sagiv Melamed - I.D.\n",
    "Dan Peled - I.D. 211547013"
   ],
   "metadata": {
    "collapsed": false
   }
  },
  {
   "cell_type": "code",
   "execution_count": 23,
   "outputs": [],
   "source": [
    "# imports\n",
    "import numpy as np\n",
    "# from util import *\n",
    "import pandas as pd\n",
    "from sklearn.preprocessing import LabelEncoder\n",
    "from sklearn.metrics import accuracy_score\n",
    "from typing import Callable\n",
    "import tensorflow as tf"
   ],
   "metadata": {
    "collapsed": false,
    "ExecuteTime": {
     "start_time": "2023-04-03T00:09:12.409566Z",
     "end_time": "2023-04-03T00:09:25.733939Z"
    }
   }
  },
  {
   "cell_type": "markdown",
   "source": [
    "# Part 1\n",
    "This section contains the implementations of the forward propagation"
   ],
   "metadata": {
    "collapsed": false
   }
  },
  {
   "cell_type": "code",
   "execution_count": 8,
   "outputs": [],
   "source": [
    "def initialize_parameters(layers_dims: list) -> dict:\n",
    "    \"\"\"\n",
    "    Create an ANN architecture depending on layers_dims\n",
    "    :param layers_dims: list of layers dimentions\n",
    "    :type layers_dims: list\n",
    "    :return: dictionary built as follows:\n",
    "        W: list of matrices representing layer's weights, initialized randomly,\n",
    "        b: list of biases for each layer, initialized to zero\n",
    "    :rtype: dict\n",
    "    \"\"\"\n",
    "    # Create W\n",
    "\n",
    "    W_sizes = [(next_dim, current_dim) for current_dim, next_dim in zip(layers_dims[:-1], layers_dims[1:])]\n",
    "    W = [np.random.randn(*Wi_size) for Wi_size in W_sizes]\n",
    "\n",
    "    # create b\n",
    "\n",
    "    b_sizes = layers_dims[1:]\n",
    "    b = [np.zeros((1, bi_size)) for bi_size in b_sizes]\n",
    "\n",
    "    return {\n",
    "        \"W\": W,\n",
    "        \"b\": b\n",
    "    }\n"
   ],
   "metadata": {
    "collapsed": false,
    "ExecuteTime": {
     "start_time": "2023-04-02T23:47:38.342152Z",
     "end_time": "2023-04-02T23:47:38.630070Z"
    }
   }
  },
  {
   "cell_type": "code",
   "execution_count": 9,
   "outputs": [],
   "source": [
    "def linear_forward(A: np.ndarray, W: np.ndarray, B: np.ndarray) -> dict:\n",
    "    \"\"\"\n",
    "    Performing linear forward on NN\n",
    "    :param A: Activation vector of previous layer\n",
    "    :type A: np.ndarray\n",
    "    :param W: Weight matrix of the current layer\n",
    "    :type W: np.ndarray\n",
    "    :param B: Bias vector of the current layer\n",
    "    :type B: np.ndarray\n",
    "    :return: dictionary built as follows:\n",
    "        Z: linear component of activation function\n",
    "        linear_cache: A,W,B\n",
    "    :rtype: dict\n",
    "    \"\"\"\n",
    "    return {\n",
    "        \"Z\": A.dot(W.T) + B,\n",
    "        \"linear_cache\": {\n",
    "            \"A\": A,\n",
    "            \"W\": W,\n",
    "            \"B\": B\n",
    "        }\n",
    "    }"
   ],
   "metadata": {
    "collapsed": false,
    "ExecuteTime": {
     "start_time": "2023-04-02T23:47:38.365877Z",
     "end_time": "2023-04-02T23:47:38.630070Z"
    }
   }
  },
  {
   "cell_type": "markdown",
   "source": [
    "Activation functions:"
   ],
   "metadata": {
    "collapsed": false
   }
  },
  {
   "cell_type": "code",
   "execution_count": 10,
   "outputs": [],
   "source": [
    "def softmax(Z: np.ndarray) -> dict:\n",
    "    \"\"\"\n",
    "    Applying softmax on Z\n",
    "    :param Z: the linear component of the activation function\n",
    "    :type Z: np.ndarray\n",
    "    :return: dictionary built as follows:\n",
    "        A: Activation of th layer\n",
    "        activation_cache: Z\n",
    "    :rtype: dict\n",
    "    \"\"\"\n",
    "    return {\n",
    "        \"A\": np.exp(Z) / np.exp(Z).sum(),\n",
    "        \"activation_cache\": {\n",
    "            \"Z\": Z\n",
    "        }\n",
    "    }\n",
    "\n",
    "\n",
    "def relu(Z: np.ndarray) -> dict:\n",
    "    \"\"\"\n",
    "        Applying relu on Z\n",
    "        :param Z: the linear component of the activation function\n",
    "        :type Z: np.ndarray\n",
    "        :return: dictionary built as follows:\n",
    "            A: Activation of th layer\n",
    "            activation_cache: Z\n",
    "        :rtype: dict\n",
    "        \"\"\"\n",
    "    return {\n",
    "        \"A\": np.maximum(0, Z),\n",
    "        \"activation_cache\": {\n",
    "            \"Z\": Z\n",
    "        }\n",
    "    }\n"
   ],
   "metadata": {
    "collapsed": false,
    "ExecuteTime": {
     "start_time": "2023-04-02T23:47:38.413013Z",
     "end_time": "2023-04-02T23:47:38.630070Z"
    }
   }
  },
  {
   "cell_type": "code",
   "execution_count": 11,
   "outputs": [],
   "source": [
    "def linear_activation_forward(A_prev: np.ndarray, W: np.ndarray, B: np.ndarray,\n",
    "                              activation: Callable[[np.ndarray], dict]) -> dict:\n",
    "    cache = {}\n",
    "    linear = linear_forward(A_prev, W, B)\n",
    "    z, linear_cache = linear['Z'], linear['linear_cache']\n",
    "\n",
    "    active = activation(z)\n",
    "    a, activation_cache = active['A'], active['activation_cache']\n",
    "\n",
    "    cache['linear_cache'] = linear_cache\n",
    "    cache['activation_cache'] = activation_cache\n",
    "\n",
    "    return {\n",
    "        \"A\": a,\n",
    "        \"cache\": cache\n",
    "    }\n"
   ],
   "metadata": {
    "collapsed": false,
    "ExecuteTime": {
     "start_time": "2023-04-02T23:47:38.426784Z",
     "end_time": "2023-04-02T23:47:38.630070Z"
    }
   }
  },
  {
   "cell_type": "code",
   "execution_count": 12,
   "outputs": [],
   "source": [
    "def L_model_forward(X: np.ndarray, parameters: dict, use_batchnorm: bool = False):\n",
    "    \"\"\"\n",
    "\n",
    "    :param X: matrix of inputs\n",
    "    :type X: np.ndarray\n",
    "    :param parameters: a dict like object containing W and b\n",
    "    :type parameters: dict\n",
    "    :param use_batchnorm: whether to use batch normalization or not\n",
    "    :type use_batchnorm: bool\n",
    "    :return:\n",
    "        dictionary containing the activation of the ANN represented by the parameters on X and cache actions\n",
    "    :rtype:\n",
    "        dict\n",
    "    \"\"\"\n",
    "    cache_list = list()\n",
    "    a = X\n",
    "\n",
    "    # Relu layers\n",
    "    for W_i, b_i in zip(parameters[\"W\"][:-1], parameters[\"b\"][:-1]):\n",
    "        results = linear_activation_forward(a, W_i, b_i, relu)\n",
    "        a = results['A']\n",
    "        if use_batchnorm:\n",
    "            raise NotImplementedError()\n",
    "\n",
    "        cache_list.append(results['cache'])\n",
    "\n",
    "    # Softmax layer\n",
    "    results = linear_activation_forward(a, parameters[\"W\"][-1], parameters[\"b\"][-1], softmax)\n",
    "    cache_list.append(results['cache'])\n",
    "    return results['A'], cache_list\n",
    "\n"
   ],
   "metadata": {
    "collapsed": false,
    "ExecuteTime": {
     "start_time": "2023-04-02T23:47:38.467257Z",
     "end_time": "2023-04-02T23:47:38.630070Z"
    }
   }
  },
  {
   "cell_type": "code",
   "execution_count": 13,
   "outputs": [],
   "source": [
    "def compute_cost(Al: np.ndarray, Y: np.ndarray):\n",
    "    \"\"\"\n",
    "    Compute loss(cost) using prediction(Al) and true values(Y)\n",
    "    :param Al:\n",
    "    :type Al:\n",
    "    :param Y:\n",
    "    :type Y:\n",
    "    :return:\n",
    "    :rtype:\n",
    "    \"\"\"\n",
    "    return np.sum(Y * np.log(Al)) / -Y.shape[0]"
   ],
   "metadata": {
    "collapsed": false,
    "ExecuteTime": {
     "start_time": "2023-04-02T23:47:38.500178Z",
     "end_time": "2023-04-02T23:47:38.630070Z"
    }
   }
  },
  {
   "cell_type": "code",
   "execution_count": 14,
   "outputs": [],
   "source": [
    "# TODO\n",
    "\n",
    "def apply_batchnorm(A: np.ndarray) -> np.ndarray:\n",
    "    mean = A.mean()\n",
    "    std = A.std()\n",
    "\n",
    "    return (A - mean) / np.sqrt(std ** 2 + .0001)"
   ],
   "metadata": {
    "collapsed": false,
    "ExecuteTime": {
     "start_time": "2023-04-02T23:47:38.507729Z",
     "end_time": "2023-04-02T23:47:38.637620Z"
    }
   }
  },
  {
   "cell_type": "markdown",
   "source": [
    "# Part 2\n",
    "\n",
    "This part contains functions related to the back propagation"
   ],
   "metadata": {
    "collapsed": false
   }
  },
  {
   "cell_type": "code",
   "execution_count": 15,
   "outputs": [],
   "source": [
    "def linear_backward(dZ: np.ndarray, cache: dict):\n",
    "    \"\"\"\n",
    "Implements the linear part of the backward propagation process for a single layer\n",
    "    :param dZ: the gradient of the cost with respect to the linear output of the current laye\n",
    "    :type dZ: np.ndarray\n",
    "    :param cache:\n",
    "    :type cache: dict\n",
    "    :return:\n",
    "        tuple of derivatives dA,dW,dB\n",
    "    :rtype:\n",
    "    \"\"\"\n",
    "    dA = np.dot(dZ, cache[\"W\"])\n",
    "    dW = np.dot(cache['A'].T, dZ)\n",
    "    dB = np.sum(dZ, axis=0, keepdims=True)\n",
    "    return dA, dW, dB"
   ],
   "metadata": {
    "collapsed": false,
    "ExecuteTime": {
     "start_time": "2023-04-02T23:47:38.548429Z",
     "end_time": "2023-04-02T23:47:38.674720Z"
    }
   }
  },
  {
   "cell_type": "code",
   "execution_count": 16,
   "outputs": [],
   "source": [
    "def linear_activation_backward(dA: np.ndarray, cache: dict, activation):\n",
    "    \"\"\"\n",
    "    Implements the backward propagation for the LINEAR->ACTIVATION layer. The function first computes dZ and then applies the linear_backward function.\n",
    "    :param dA: post activation gradient of the current layer\n",
    "    :type dA: np.ndarray\n",
    "    :param cache: contains both the linear cache and the activations cache\n",
    "    :type cache: dict\n",
    "    :param activation: activation backward function\n",
    "    :type activation: function\n",
    "    :return:\n",
    "                tuple of derivatives dA,dW,dB\n",
    "    :rtype:\n",
    "    \"\"\"\n",
    "    dZ = activation(dA, cache['activation_cache'])\n",
    "    return linear_backward(dZ, cache['linear_cache'])"
   ],
   "metadata": {
    "collapsed": false,
    "ExecuteTime": {
     "start_time": "2023-04-02T23:47:38.579687Z",
     "end_time": "2023-04-02T23:47:38.817379Z"
    }
   }
  },
  {
   "cell_type": "code",
   "execution_count": 17,
   "outputs": [],
   "source": [
    "def relu_backward(dA: np.ndarray, activation_catch: dict):\n",
    "    \"\"\"\n",
    "    Implements backward propagation for a ReLU unit\n",
    "    :param dA: the post-activation gradient\n",
    "    :type dA: np.ndarray\n",
    "    :param activation_catch: contains Z (stored during the forward propagation)\n",
    "    :type activation_catch: dict\n",
    "    :return:\n",
    "        derivative of Z\n",
    "    :rtype:\n",
    "        np.ndarray\n",
    "    \"\"\"\n",
    "    dZ = np.array(dA, copy=True)\n",
    "    dZ[activation_catch['Z'] <= 0] = 0\n",
    "    return dZ\n",
    "\n",
    "\n",
    "def softmax_backward(dA, activation_cache):\n",
    "    return dA - activation_cache['Y']\n"
   ],
   "metadata": {
    "collapsed": false,
    "ExecuteTime": {
     "start_time": "2023-04-02T23:47:38.600910Z",
     "end_time": "2023-04-02T23:47:38.823450Z"
    }
   }
  },
  {
   "cell_type": "code",
   "execution_count": 18,
   "outputs": [],
   "source": [
    "def l_model_backward(Al: np.ndarray, Y: np.ndarray, caches: list):\n",
    "    \"\"\"\n",
    "    Implement the backward propagation process for the entire network.\n",
    "    :param Al: the probabilities vector, the output of the forward propagation\n",
    "    :type Al: np.ndarray\n",
    "    :param Y: the true labels vector (the \"ground truth\" - true classifications)\n",
    "    :type Y: np.ndarray\n",
    "    :param caches: contains Z (stored during the forward propagation)\n",
    "    :type caches: dict\n",
    "    :return:\n",
    "    gradient of the cost with respect to Z\n",
    "    :rtype:\n",
    "    np.ndarray\n",
    "    \"\"\"\n",
    "    layers = len(caches) - 1\n",
    "    grads = dict()\n",
    "\n",
    "    ## compute the gradient on predictions\n",
    "\n",
    "    # softmax layer update\n",
    "    layer = caches.pop()\n",
    "    layer['Y'] = Y\n",
    "    grads[f\"dA_{layers}\"], grads[f\"dW_{layers}\"], grads[f\"dB_{layers}\"] = \\\n",
    "            linear_activation_backward(Al, layer, softmax_backward)\n",
    "    # Layers update\n",
    "    for i, layer in enumerate(reversed(caches)):\n",
    "        grads[f\"dA_{layers - i - 1}\"], grads[f\"dW_{layers - i - 1}\"], grads[f\"dB_{layers - i - 1}\"] = \\\n",
    "            linear_activation_backward(grads[f\"dA_{layers - i}\"], layer, relu_backward)\n",
    "        # dA = grads[f\"dA_{layers - i}\"]\n",
    "    return grads\n"
   ],
   "metadata": {
    "collapsed": false,
    "ExecuteTime": {
     "start_time": "2023-04-02T23:47:38.628028Z",
     "end_time": "2023-04-02T23:47:38.823450Z"
    }
   }
  },
  {
   "cell_type": "code",
   "execution_count": 19,
   "outputs": [],
   "source": [
    "def update_parameters(parameters: dict, grads: dict, learning_rate: float):\n",
    "    \"\"\"\n",
    "    Updates parameters using gradient descent\n",
    "    :param parameters: parameters of the ANN\n",
    "    :type parameters: dict\n",
    "    :param grads: – a python dictionary containing the gradients (generated by L_model_backward)\n",
    "    :type grads: dict\n",
    "    :param learning_rate: the learning rate used to update\n",
    "    :type learning_rate: float\n",
    "    :return:\n",
    "        Updated parameters of the ANN\n",
    "    :rtype:\n",
    "        dict\n",
    "    \"\"\"\n",
    "    for index in range(len(parameters[\"W\"])):\n",
    "        parameters['W'][index] -= learning_rate * grads[f'dW_{index}'].T\n",
    "        parameters['b'][index] -= learning_rate * grads[f'dB_{index}']\n",
    "    return parameters\n"
   ],
   "metadata": {
    "collapsed": false,
    "ExecuteTime": {
     "start_time": "2023-04-02T23:47:38.658985Z",
     "end_time": "2023-04-02T23:47:38.823450Z"
    }
   }
  },
  {
   "cell_type": "markdown",
   "source": [
    "# Part 3\n",
    "\n",
    "This part contains the functions of training and testing a model"
   ],
   "metadata": {
    "collapsed": false
   }
  },
  {
   "cell_type": "code",
   "execution_count": 20,
   "outputs": [],
   "source": [
    "def L_layer_model(X, Y, layer_dims, learning_rate, num_iterations, batch_size):\n",
    "    params = initialize_parameters(layer_dims)\n",
    "    batch_mask = np.zeros(X.shape[0])\n",
    "    batch_mask[:batch_size] = 1\n",
    "    costs = []\n",
    "    for i in range(1, num_iterations + 1):\n",
    "        np.random.shuffle(batch_mask)\n",
    "        x = X[batch_mask.astype(bool)]\n",
    "        al, caches = L_model_forward(x, params)\n",
    "        y = Y[batch_mask.astype(bool)]\n",
    "        if i % 100 == 0:\n",
    "            costs.append(compute_cost(al, y))\n",
    "        grads = l_model_backward(al, y, caches)\n",
    "        params = update_parameters(params, grads, learning_rate)\n",
    "    return params, costs\n"
   ],
   "metadata": {
    "collapsed": false,
    "ExecuteTime": {
     "start_time": "2023-04-02T23:47:38.680756Z",
     "end_time": "2023-04-02T23:47:38.838682Z"
    }
   }
  },
  {
   "cell_type": "code",
   "execution_count": 21,
   "outputs": [],
   "source": [
    "def predict(X, Y, parameters, use_batchnorm: bool=False):\n",
    "    predicted, _ = L_model_forward(X, parameters, use_batchnorm)\n",
    "    diff = np.argmax(predicted, axis=0) == np.argmax(Y, axis=0)\n",
    "    return diff.sum() / len(diff)\n"
   ],
   "metadata": {
    "collapsed": false,
    "ExecuteTime": {
     "start_time": "2023-04-02T23:47:38.717083Z",
     "end_time": "2023-04-02T23:47:38.838682Z"
    }
   }
  },
  {
   "cell_type": "markdown",
   "source": [
    "# Part 4\n",
    "Training the model over MNIST dataset."
   ],
   "metadata": {
    "collapsed": false
   }
  },
  {
   "cell_type": "markdown",
   "source": [
    "## Loading the dataset"
   ],
   "metadata": {
    "collapsed": false
   }
  },
  {
   "cell_type": "code",
   "execution_count": 46,
   "outputs": [],
   "source": [
    "def _to_matrix(y):\n",
    "    \"\"\"\n",
    "    This function takes the y vector from the MNIST dataset and transform it to 1/0 matrix\n",
    "    :param y:\n",
    "    :return:\n",
    "    \"\"\"\n",
    "    t = np.zeros((10, y.shape[0]))\n",
    "    t[y, np.arange(y.shape[0])] = 1\n",
    "    return t"
   ],
   "metadata": {
    "collapsed": false,
    "ExecuteTime": {
     "start_time": "2023-04-03T00:33:03.701939Z",
     "end_time": "2023-04-03T00:33:03.801743Z"
    }
   }
  },
  {
   "cell_type": "code",
   "execution_count": null,
   "outputs": [],
   "source": [
    "(x_train, y_train), (x_test, y_test) = tf.keras.datasets.mnist.load_data()\n",
    "\n",
    "x_train = x_train.reshape((-1, 784))\n",
    "x_test = x_test.reshape((-1, 784))\n",
    "\n",
    "y_train = _to_matrix(y_train)\n",
    "y_test = _to_matrix(y_test)\n",
    "\n",
    "valdition_count = int(0.2 * y_train.shape[1])\n",
    "val_mask = np.zeros(y_train.shape[1])\n",
    "val_mask[:valdition_count] = 1\n",
    "np.random.shuffle(val_mask)\n",
    "val_mask = val_mask.astype(bool)\n",
    "x_val, y_val = x_train[val_mask], y_train[:, val_mask]\n",
    "x_train, y_train = x_train[~val_mask], y_train[:, ~val_mask]"
   ],
   "metadata": {
    "collapsed": false,
    "ExecuteTime": {
     "start_time": "2023-04-03T00:37:29.753164Z",
     "end_time": "2023-04-03T00:37:31.374540Z"
    }
   }
  },
  {
   "cell_type": "markdown",
   "source": [
    "## Training the model"
   ],
   "metadata": {
    "collapsed": false
   }
  },
  {
   "cell_type": "code",
   "execution_count": null,
   "outputs": [],
   "source": [],
   "metadata": {
    "collapsed": false
   }
  }
 ]
}
