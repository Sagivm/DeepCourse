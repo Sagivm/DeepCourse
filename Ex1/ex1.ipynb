{
 "nbformat": 4,
 "nbformat_minor": 0,
 "metadata": {
  "colab": {
   "provenance": []
  },
  "kernelspec": {
   "name": "python3",
   "language": "python",
   "display_name": "Python 3 (ipykernel)"
  },
  "language_info": {
   "name": "python"
  }
 },
 "cells": [
  {
   "cell_type": "markdown",
   "source": [
    "# Deep Learning - Assigment 1\n",
    "\n",
    "Sagiv Melamed - I.D. 315092239 \\\n",
    "Dan Peled - I.D. 211547013"
   ],
   "metadata": {
    "collapsed": false,
    "id": "BVvSmnIvhzC8"
   }
  },
  {
   "cell_type": "code",
   "execution_count": 10,
   "outputs": [],
   "source": [
    "# imports\n",
    "import numpy as np\n",
    "import pandas as pd\n",
    "from typing import Callable\n",
    "import tensorflow as tf\n",
    "import time\n",
    "import pickle\n",
    "import os\n",
    "import matplotlib.pyplot as plt"
   ],
   "metadata": {
    "ExecuteTime": {
     "start_time": "2023-04-05T14:40:19.284577Z",
     "end_time": "2023-04-05T14:40:21.436491Z"
    },
    "id": "dMrhGxO-hzDB"
   }
  },
  {
   "cell_type": "markdown",
   "source": [
    "# Part 1\n",
    "This section contains the implementations of the forward propagation"
   ],
   "metadata": {
    "collapsed": false,
    "id": "vjfsYD1shzDE"
   }
  },
  {
   "cell_type": "code",
   "execution_count": 2,
   "outputs": [],
   "source": [
    "def initialize_parameters(layers_dims: list) -> dict:\n",
    "    \"\"\"\n",
    "    Create an ANN architecture depending on layers_dims\n",
    "    :param layers_dims: list of layers dimentions\n",
    "    :type layers_dims: list\n",
    "    :return: dictionary built as follows:\n",
    "        W: list of matrices representing layer's weights, initialized randomly,\n",
    "        b: list of biases for each layer, initialized to zero\n",
    "    :rtype: dict\n",
    "    \"\"\"\n",
    "    # Create W\n",
    "\n",
    "    W_sizes = [(next_dim, current_dim) for current_dim, next_dim in zip(layers_dims[:-1], layers_dims[1:])]\n",
    "    W = [np.random.randn(*Wi_size) * np.sqrt(2 / Wi_size[1]) for Wi_size in W_sizes]\n",
    "\n",
    "    # create b\n",
    "\n",
    "    b_sizes = layers_dims[1:]\n",
    "    b = [np.zeros((bi_size, 1)) for bi_size in b_sizes]\n",
    "\n",
    "    return {\n",
    "        \"W\": W,\n",
    "        \"b\": b\n",
    "    }\n"
   ],
   "metadata": {
    "ExecuteTime": {
     "start_time": "2023-04-05T00:38:00.815038Z",
     "end_time": "2023-04-05T00:38:00.884307Z"
    },
    "id": "YGDVER6fhzDF"
   }
  },
  {
   "cell_type": "code",
   "execution_count": 3,
   "outputs": [],
   "source": [
    "def linear_forward(A: np.ndarray, W: np.ndarray, B: np.ndarray) -> dict:\n",
    "    \"\"\"\n",
    "    Performing linear forward on NN\n",
    "    :param A: Activation vector of previous layer\n",
    "    :type A: np.ndarray\n",
    "    :param W: Weight matrix of the current layer\n",
    "    :type W: np.ndarray\n",
    "    :param B: Bias vector of the current layer\n",
    "    :type B: np.ndarray\n",
    "    :return: dictionary built as follows:\n",
    "        Z: linear component of activation function\n",
    "        linear_cache: A,W,B\n",
    "    :rtype: dict\n",
    "    \"\"\"\n",
    "    return {\n",
    "        \"Z\": W.dot(A) + B,\n",
    "        \"linear_cache\": {\n",
    "            \"A\": A,\n",
    "            \"W\": W,\n",
    "            \"B\": B\n",
    "        }\n",
    "    }"
   ],
   "metadata": {
    "ExecuteTime": {
     "start_time": "2023-04-05T00:38:00.837714Z",
     "end_time": "2023-04-05T00:38:00.885301Z"
    },
    "id": "sKCvKsQChzDG"
   }
  },
  {
   "cell_type": "markdown",
   "source": [
    "Activation functions:"
   ],
   "metadata": {
    "collapsed": false,
    "id": "d0DbGGShhzDI"
   }
  },
  {
   "cell_type": "code",
   "execution_count": 4,
   "outputs": [],
   "source": [
    "def softmax(Z: np.ndarray) -> dict:\n",
    "    \"\"\"\n",
    "    Applying softmax on Z\n",
    "    :param Z: the linear component of the activation function\n",
    "    :type Z: np.ndarray\n",
    "    :return: dictionary built as follows:\n",
    "        A: Activation of th layer\n",
    "        activation_cache: Z\n",
    "    :rtype: dict\n",
    "    \"\"\"\n",
    "    # To avoid overflow in the exponent we will subtract the max value from z\n",
    "    # and perform softmax on that. The mathematical proof provided in the report.\n",
    "    z = np.copy(Z)\n",
    "    z -= z.max(axis=0)\n",
    "    return {\n",
    "        \"A\": np.exp(z) / np.exp(z).sum(axis=0),\n",
    "        \"activation_cache\": {\n",
    "            \"Z\": Z\n",
    "        }\n",
    "    }\n",
    "\n",
    "\n",
    "def relu(Z: np.ndarray) -> dict:\n",
    "    \"\"\"\n",
    "        Applying relu on Z\n",
    "        :param Z: the linear component of the activation function\n",
    "        :type Z: np.ndarray\n",
    "        :return: dictionary built as follows:\n",
    "            A: Activation of th layer\n",
    "            activation_cache: Z\n",
    "        :rtype: dict\n",
    "        \"\"\"\n",
    "    return {\n",
    "        \"A\": np.maximum(0, Z),\n",
    "        \"activation_cache\": {\n",
    "            \"Z\": Z\n",
    "        }\n",
    "    }\n"
   ],
   "metadata": {
    "ExecuteTime": {
     "start_time": "2023-04-05T00:38:00.894022Z",
     "end_time": "2023-04-05T00:38:00.952593Z"
    },
    "id": "eKxlAbgQhzDJ"
   }
  },
  {
   "cell_type": "code",
   "execution_count": 5,
   "outputs": [],
   "source": [
    "def linear_activation_forward(A_prev: np.ndarray, W: np.ndarray, B: np.ndarray,\n",
    "                              activation: Callable[[np.ndarray], dict]) -> dict:\n",
    "    \"\"\"\n",
    "    Doing forward propagation of one layer, both the linear and the activation.\n",
    "    :param A_prev: The last activated vector from previous layer\n",
    "    :param W: The weights of the current layer\n",
    "    :param B: The bias of the current layer\n",
    "    :param activation: The activation function to apply on the layer.\n",
    "    :return: Dictionary contains both the output of the layer, after activation and the cache of the layer run.\n",
    "    \"\"\"\n",
    "    cache = {}\n",
    "    linear = linear_forward(A_prev, W, B)\n",
    "    z, linear_cache = linear['Z'], linear['linear_cache']\n",
    "\n",
    "    active = activation(z)\n",
    "    a, activation_cache = active['A'], active['activation_cache']\n",
    "\n",
    "    cache['linear_cache'] = linear_cache\n",
    "    cache['activation_cache'] = activation_cache\n",
    "\n",
    "    return {\n",
    "        \"A\": a,\n",
    "        \"cache\": cache\n",
    "    }\n"
   ],
   "metadata": {
    "ExecuteTime": {
     "start_time": "2023-04-05T00:38:00.934833Z",
     "end_time": "2023-04-05T00:38:00.987803Z"
    },
    "id": "J4hKG0iVhzDL"
   }
  },
  {
   "cell_type": "code",
   "execution_count": 6,
   "outputs": [],
   "source": [
    "def L_model_forward(X: np.ndarray, parameters: dict, use_batchnorm: bool = False):\n",
    "    \"\"\"\n",
    "\n",
    "    :param X: matrix of inputs\n",
    "    :type X: np.ndarray\n",
    "    :param parameters: a dict like object containing W and b\n",
    "    :type parameters: dict\n",
    "    :param use_batchnorm: whether to use batch normalization or not\n",
    "    :type use_batchnorm: bool\n",
    "    :return:\n",
    "        dictionary containing the activation of the ANN represented by the parameters on X and cache actions\n",
    "    :rtype:\n",
    "        dict\n",
    "    \"\"\"\n",
    "    cache_list = list()\n",
    "    a = X\n",
    "\n",
    "    # Relu layers\n",
    "    for W_i, b_i in zip(parameters[\"W\"][:-1], parameters[\"b\"][:-1]):\n",
    "        results = linear_activation_forward(a, W_i, b_i, relu)\n",
    "        a = results['A']\n",
    "        if use_batchnorm:\n",
    "            a = apply_batchnorm(a)\n",
    "\n",
    "        cache_list.append(results['cache'])\n",
    "\n",
    "    # Softmax layer\n",
    "    results = linear_activation_forward(a, parameters[\"W\"][-1], parameters[\"b\"][-1], softmax)\n",
    "    cache_list.append(results['cache'])\n",
    "    return results['A'], cache_list\n",
    "\n"
   ],
   "metadata": {
    "ExecuteTime": {
     "start_time": "2023-04-05T00:38:00.963204Z",
     "end_time": "2023-04-05T00:38:01.059596Z"
    },
    "id": "lW9b_F6HhzDM"
   }
  },
  {
   "cell_type": "code",
   "execution_count": 7,
   "outputs": [],
   "source": [
    "def compute_cost(Al: np.ndarray, Y: np.ndarray):\n",
    "    \"\"\"\n",
    "    Compute loss(cost) using prediction(Al) and true values(Y)\n",
    "    :param Al:\n",
    "    :type Al:\n",
    "    :param Y:\n",
    "    :type Y:\n",
    "    :return:\n",
    "    :rtype:\n",
    "    \"\"\"\n",
    "    return np.sum(Y * np.log(Al + 1e-6)) / -Y.shape[1]  # added small epsilon to avoid log(0)"
   ],
   "metadata": {
    "ExecuteTime": {
     "start_time": "2023-04-05T00:38:00.998853Z",
     "end_time": "2023-04-05T00:38:01.061109Z"
    },
    "id": "XeVm6gQ9hzDO"
   }
  },
  {
   "cell_type": "code",
   "execution_count": 8,
   "outputs": [],
   "source": [
    "def apply_batchnorm(A: np.ndarray) -> np.ndarray:\n",
    "    \"\"\"\n",
    "    Normalize the vector according to his mean and std.\n",
    "    :param A: The input vector to normalize\n",
    "    :return: The normalized vector\n",
    "    \"\"\"\n",
    "    mean = A.mean()\n",
    "    std = A.std()\n",
    "\n",
    "    return (A - mean) / np.sqrt(std ** 2 + 1e-6)  # plus 1e-6 to avoid zero division"
   ],
   "metadata": {
    "ExecuteTime": {
     "start_time": "2023-04-05T00:38:01.030769Z",
     "end_time": "2023-04-05T00:38:01.061642Z"
    },
    "id": "KvWhuCKphzDP"
   }
  },
  {
   "cell_type": "markdown",
   "source": [
    "# Part 2\n",
    "\n",
    "This part contains functions related to the back propagation"
   ],
   "metadata": {
    "collapsed": false,
    "id": "z1A1sBr4hzDQ"
   }
  },
  {
   "cell_type": "code",
   "execution_count": 9,
   "outputs": [],
   "source": [
    "def linear_backward(dZ: np.ndarray, cache: dict):\n",
    "    \"\"\"\n",
    "    Implements the linear part of the backward propagation process for a single layer\n",
    "    :param dZ: the gradient of the cost with respect to the linear output of the current laye\n",
    "    :type dZ: np.ndarray\n",
    "    :param cache:\n",
    "    :type cache: dict\n",
    "    :return:\n",
    "        tuple of derivatives dA,dW,dB\n",
    "    :rtype:\n",
    "    \"\"\"\n",
    "    m = cache[\"A\"].shape[1]\n",
    "\n",
    "    dA = cache[\"W\"].T.dot(dZ)\n",
    "    dW = dZ.dot(cache['A'].T) / m\n",
    "    dB = np.sum(dZ, axis=1, keepdims=True) / m\n",
    "    return dA, dW, dB"
   ],
   "metadata": {
    "ExecuteTime": {
     "start_time": "2023-04-05T00:38:01.059596Z",
     "end_time": "2023-04-05T00:38:01.081055Z"
    },
    "id": "iqnW3GVRhzDR"
   }
  },
  {
   "cell_type": "code",
   "execution_count": 10,
   "outputs": [],
   "source": [
    "def linear_activation_backward(dA: np.ndarray, cache: dict, activation):\n",
    "    \"\"\"\n",
    "    Implements the backward propagation for the LINEAR->ACTIVATION layer. The function first computes dZ and then applies the linear_backward function.\n",
    "    :param dA: post activation gradient of the current layer\n",
    "    :type dA: np.ndarray\n",
    "    :param cache: contains both the linear cache and the activations cache\n",
    "    :type cache: dict\n",
    "    :param activation: activation backward function\n",
    "    :type activation:\n",
    "    :return:\n",
    "                tuple of derivatives dA,dW,dB\n",
    "    :rtype:\n",
    "    \"\"\"\n",
    "    dZ = activation(dA, cache['activation_cache'])\n",
    "    return linear_backward(dZ, cache['linear_cache'])"
   ],
   "metadata": {
    "ExecuteTime": {
     "start_time": "2023-04-05T00:38:01.096327Z",
     "end_time": "2023-04-05T00:38:01.200463Z"
    },
    "id": "Pu0PD4OrhzDS"
   }
  },
  {
   "cell_type": "code",
   "execution_count": 11,
   "outputs": [],
   "source": [
    "def relu_backward(dA: np.ndarray, activation_catch: dict):\n",
    "    \"\"\"\n",
    "    Implements backward propagation for a ReLU unit\n",
    "    :param dA: the post-activation gradient\n",
    "    :type dA: np.ndarray\n",
    "    :param activation_catch: contains Z (stored during the forward propagation)\n",
    "    :type activation_catch: dict\n",
    "    :return:\n",
    "        derivative of Z\n",
    "    :rtype:\n",
    "        np.ndarray\n",
    "    \"\"\"\n",
    "    dZ = np.array(dA, copy=True)\n",
    "    dZ[activation_catch['Z'] <= 0] = 0\n",
    "    return dZ\n",
    "\n",
    "\n",
    "def softmax_backward(dA, activation_cache):\n",
    "    return dA\n"
   ],
   "metadata": {
    "ExecuteTime": {
     "start_time": "2023-04-05T00:38:01.122048Z",
     "end_time": "2023-04-05T00:38:01.200463Z"
    },
    "id": "GLoL0xYyhzDT"
   }
  },
  {
   "cell_type": "code",
   "execution_count": 12,
   "outputs": [],
   "source": [
    "def l_model_backward(Al: np.ndarray, Y: np.ndarray, caches: list):\n",
    "    \"\"\"\n",
    "    Implement the backward propagation process for the entire network.\n",
    "    :param Al: the probabilities vector, the output of the forward propagation\n",
    "    :type Al: np.ndarray\n",
    "    :param Y: the true labels vector (the \"ground truth\" - true classifications)\n",
    "    :type Y: np.ndarray\n",
    "    :param caches: contains Z (stored during the forward propagation)\n",
    "    :type caches: dict\n",
    "    :return:\n",
    "    gradient of the cost with respect to Z\n",
    "    :rtype:\n",
    "    np.ndarray\n",
    "    \"\"\"\n",
    "    layers = len(caches)\n",
    "    grads = dict()\n",
    "\n",
    "    ## compute the gradient on predictions\n",
    "\n",
    "    # softmax layer update\n",
    "    current_cache = caches[layers - 1]\n",
    "    dA_last = Al - Y  # gradient of loss function and softmax\n",
    "    grads[f\"dA_{layers - 1}\"], grads[f\"dW_{layers - 1}\"], grads[f\"dB_{layers - 1}\"] = \\\n",
    "            linear_activation_backward(dA_last, current_cache, softmax_backward)\n",
    "    # Layers update\n",
    "    for l in reversed(range(layers - 1)):\n",
    "        current_cache = caches[l]\n",
    "        grads[f\"dA_{l}\"], grads[f\"dW_{l}\"], grads[f\"dB_{l}\"] = \\\n",
    "            linear_activation_backward(grads[f\"dA_{l + 1}\"], current_cache, relu_backward)\n",
    "    return grads\n"
   ],
   "metadata": {
    "ExecuteTime": {
     "start_time": "2023-04-05T00:38:01.160289Z",
     "end_time": "2023-04-05T00:38:01.201996Z"
    },
    "id": "msYHosePhzDV"
   }
  },
  {
   "cell_type": "code",
   "execution_count": 13,
   "outputs": [],
   "source": [
    "def update_parameters(parameters: dict, grads: dict, learning_rate: float):\n",
    "    \"\"\"\n",
    "    Updates parameters using gradient descent\n",
    "    :param parameters: parameters of the ANN\n",
    "    :type parameters: dict\n",
    "    :param grads: – a python dictionary containing the gradients (generated by L_model_backward)\n",
    "    :type grads: dict\n",
    "    :param learning_rate: the learning rate used to update\n",
    "    :type learning_rate: float\n",
    "    :return:\n",
    "        Updated parameters of the ANN\n",
    "    :rtype:\n",
    "        dict\n",
    "    \"\"\"\n",
    "    for index in range(len(parameters[\"W\"])):\n",
    "        parameters['W'][index] -= learning_rate * grads[f'dW_{index}']\n",
    "        parameters['b'][index] -= learning_rate * grads[f'dB_{index}']\n",
    "    return parameters\n"
   ],
   "metadata": {
    "ExecuteTime": {
     "start_time": "2023-04-05T00:38:01.180184Z",
     "end_time": "2023-04-05T00:38:01.260958Z"
    },
    "id": "bymXV229hzDX"
   }
  },
  {
   "cell_type": "markdown",
   "source": [
    "# Part 3\n",
    "\n",
    "This part contains the functions of training and testing a model"
   ],
   "metadata": {
    "collapsed": false,
    "id": "tHaw_IYOhzDY"
   }
  },
  {
   "cell_type": "code",
   "execution_count": 14,
   "outputs": [],
   "source": [
    "def _build_mini_batches(X, Y, batch_size):\n",
    "    \"\"\"\n",
    "    Splits the data set to mini-batches in size of batch_size.\n",
    "    If the dataset length divides with a remaining by batch_size, another mini-batch will be appended in the size of the remaining.\n",
    "    :param X:\n",
    "    :param Y:\n",
    "    :param batch_size:\n",
    "    :return: list of mini-batches structured by (x,y)\n",
    "    \"\"\"\n",
    "\n",
    "    # Shuffle the dataset first\n",
    "    permutation = np.random.permutation(Y.shape[1])\n",
    "    x_shuffled, y_shuffled = X[:, permutation], Y[:, permutation]\n",
    "\n",
    "    batches_count, remain = divmod(Y.shape[1], batch_size)\n",
    "    mini_batches = []\n",
    "    for i in range(batches_count):\n",
    "        mini_x = x_shuffled[:, i * batch_size:(i + 1) * batch_size]\n",
    "        mini_y = y_shuffled[:, i * batch_size:(i + 1) * batch_size]\n",
    "        mini_batches.append((mini_x, mini_y))\n",
    "\n",
    "    if remain:\n",
    "        mini_x = x_shuffled[:, -remain:]\n",
    "        mini_y = y_shuffled[:, -remain:]\n",
    "        mini_batches.append((mini_x, mini_y))\n",
    "\n",
    "    return mini_batches"
   ],
   "metadata": {
    "ExecuteTime": {
     "start_time": "2023-04-05T00:38:01.209065Z",
     "end_time": "2023-04-05T00:38:01.308728Z"
    },
    "id": "hYFS9yjFhzDZ"
   }
  },
  {
   "cell_type": "code",
   "execution_count": 29,
   "outputs": [],
   "source": [
    "def L_layer_model(X, Y, layer_dims, learning_rate, num_iterations, batch_size, use_batchnorm=False, stop_eps=1e-5):\n",
    "    \"\"\"\n",
    "    Train a model for one epoch.\n",
    "\n",
    "    :param X: The training data\n",
    "    :param Y: The training data's labels\n",
    "    :param layer_dims: iterable of integers represents the number of neurons in every layer.\n",
    "    :param learning_rate: the learning rate of the model\n",
    "    :param num_iterations: maximum number of epochs, if the stopping by the validation won't occur.\n",
    "    :param batch_size: size of 1 individual batch to feed the model at once.\n",
    "    :param use_batchnorm: rather to apply batch normalization.\n",
    "    :param stop_eps: optional, the bound of validation cose change for stop training. default 1e-5.\n",
    "    :return: tuple of (parameters, costs, metadata).\n",
    "        parameters are the trained model, costs are the loss for every 100 training update, and metadata about the training - runtime, number of epochs, accuracies of the train and validation, batch size,\n",
    "    \"\"\"\n",
    "\n",
    "    (x_train, y_train), (x_val, y_val) = _split_train_val(X, Y)\n",
    "    mini_batches = _build_mini_batches(x_train, y_train, batch_size)\n",
    "\n",
    "    params = initialize_parameters(layer_dims)\n",
    "\n",
    "    costs = []\n",
    "    last_val_cost = -np.inf\n",
    "    val_costs = []\n",
    "\n",
    "    update_count = 0  # number of time called to update_parameters\n",
    "\n",
    "    start = time.perf_counter()\n",
    "    for i in range(1, num_iterations + 1):\n",
    "        print(f\"Start epoch {i}\")\n",
    "        # Train\n",
    "        for (x, y) in mini_batches:\n",
    "            al, caches = L_model_forward(x, params, use_batchnorm)\n",
    "            if (update_count + 1) % 100 == 0:\n",
    "                costs.append(compute_cost(al, y))\n",
    "            grads = l_model_backward(al, y, caches)\n",
    "            params = update_parameters(params, grads, learning_rate)\n",
    "            update_count += 1\n",
    "\n",
    "        # Validation\n",
    "        val_al, _ = L_model_forward(x_val, params, use_batchnorm)\n",
    "        val_cost = compute_cost(val_al, y_val)\n",
    "        val_costs.append(val_cost)\n",
    "        print(f\"End epoch {i} - {val_cost=}\")\n",
    "        if i > 15 and np.abs(val_cost - last_val_cost) < stop_eps:\n",
    "            # The stopping checking is done only after 15 epochs to avoid fast stopping on high cost\n",
    "            print(f\"Stopping after the validation cost wasn't changed: {last_val_cost=}, {val_cost=}\"\n",
    "                  f\" diff={np.abs(val_cost - last_val_cost)}\")\n",
    "            break\n",
    "        last_val_cost = val_cost\n",
    "\n",
    "    end = time.perf_counter()\n",
    "\n",
    "    train_acc = predict(x_train, y_train, params, use_batchnorm)\n",
    "    val_acc = predict(x_val, y_val, params, use_batchnorm)\n",
    "\n",
    "    return params, costs, {\"runtime\": end-start, \"epochs\": i, \"val_acc\": val_acc, \"train_acc\": train_acc, \"batch_size\": batch_size, \"mini-batches\": len(mini_batches), \"batchnorm\": use_batchnorm, \"val_costs\": val_costs}\n"
   ],
   "metadata": {
    "ExecuteTime": {
     "start_time": "2023-04-05T00:38:01.273637Z",
     "end_time": "2023-04-05T00:38:01.311245Z"
    },
    "id": "VvbCjeeDhzDa"
   }
  },
  {
   "cell_type": "code",
   "execution_count": 16,
   "outputs": [],
   "source": [
    "def predict(X: np.ndarray, Y: np.ndarray, parameters: dict, use_batchnorm: bool=False) -> float:\n",
    "    \"\"\"\n",
    "    Evaluate the model given by `parameters` over `X` and returns the accuracy with respect to `Y`\n",
    "    :param X: The model input\n",
    "    :param Y: ground truth for `X`\n",
    "    :param parameters: the model weights and biases\n",
    "    :param use_batchnorm: rather to use batch normalization\n",
    "    :return: The accuracy of the model with respect to the input set.\n",
    "    \"\"\"\n",
    "    predicted, _ = L_model_forward(X, parameters, use_batchnorm)\n",
    "    diff = np.argmax(predicted, axis=0) == np.argmax(Y, axis=0)\n",
    "    return diff.sum() / len(diff)\n"
   ],
   "metadata": {
    "ExecuteTime": {
     "start_time": "2023-04-05T00:38:01.311245Z",
     "end_time": "2023-04-05T00:38:01.354767Z"
    },
    "id": "G_JaHscDhzDc"
   }
  },
  {
   "cell_type": "markdown",
   "source": [
    "# Part 4\n",
    "Training the model over MNIST dataset."
   ],
   "metadata": {
    "collapsed": false,
    "id": "L3uLZCkphzDd"
   }
  },
  {
   "cell_type": "markdown",
   "source": [
    "## Loading the dataset"
   ],
   "metadata": {
    "collapsed": false,
    "id": "OmzAS3iohzDd"
   }
  },
  {
   "cell_type": "code",
   "execution_count": 17,
   "outputs": [],
   "source": [
    "def _to_matrix(y):\n",
    "    \"\"\"\n",
    "    This function takes the y vector from the MNIST dataset and transform it to one-hot matrix\n",
    "    :param y:\n",
    "    :return:\n",
    "    \"\"\"\n",
    "    return np.eye(10)[y].T"
   ],
   "metadata": {
    "ExecuteTime": {
     "start_time": "2023-04-05T00:38:01.333930Z",
     "end_time": "2023-04-05T00:38:01.402407Z"
    },
    "id": "1wDUhk34hzDe"
   }
  },
  {
   "cell_type": "code",
   "execution_count": 18,
   "outputs": [],
   "source": [
    "def _split_train_val(X, Y, ratio=0.2):\n",
    "    \"\"\"\n",
    "    Splits train set to train and validation\n",
    "    :param X:\n",
    "    :param Y:\n",
    "    :return: (x_train, y_train), (x_val, y_val)\n",
    "    \"\"\"\n",
    "    valdition_count = int(ratio * Y.shape[1])\n",
    "    val_mask = np.zeros(Y.shape[1])\n",
    "    val_mask[:valdition_count] = 1\n",
    "    np.random.shuffle(val_mask)\n",
    "    val_mask = val_mask.astype(bool)\n",
    "    x_val, y_val = X[:, val_mask], Y[:, val_mask]\n",
    "    x_train, y_train = X[:, ~val_mask], Y[:, ~val_mask]\n",
    "\n",
    "    return (x_train, y_train), (x_val, y_val)"
   ],
   "metadata": {
    "ExecuteTime": {
     "start_time": "2023-04-05T00:38:01.354767Z",
     "end_time": "2023-04-05T00:38:01.440029Z"
    },
    "id": "xGVe43dUhzDf"
   }
  },
  {
   "cell_type": "code",
   "execution_count": 19,
   "outputs": [
    {
     "output_type": "stream",
     "name": "stdout",
     "text": [
      "Downloading data from https://storage.googleapis.com/tensorflow/tf-keras-datasets/mnist.npz\n",
      "11490434/11490434 [==============================] - 0s 0us/step\n"
     ]
    }
   ],
   "source": [
    "(x_train, y_train), (x_test, y_test) = tf.keras.datasets.mnist.load_data()\n",
    "\n",
    "x_train = np.moveaxis(x_train, 0, -1).reshape((784, -1)) / 255.0\n",
    "x_test = np.moveaxis(x_test, 0, -1).reshape((784, -1)) / 255.0\n",
    "\n",
    "y_train = _to_matrix(y_train)\n",
    "y_test = _to_matrix(y_test)"
   ],
   "metadata": {
    "ExecuteTime": {
     "start_time": "2023-04-05T00:38:01.391738Z",
     "end_time": "2023-04-05T00:38:02.384069Z"
    },
    "id": "I7v0BnaohzDf",
    "outputId": "ce107275-d0e2-4090-fbdf-8788152037fd",
    "colab": {
     "base_uri": "https://localhost:8080/"
    }
   }
  },
  {
   "cell_type": "markdown",
   "source": [
    "## Training the model"
   ],
   "metadata": {
    "collapsed": false,
    "id": "5GDwPywNhzDg"
   }
  },
  {
   "cell_type": "code",
   "source": [
    "# Using a random seed, but setting it each time to receive same results\n",
    "np.random.seed(37482)"
   ],
   "metadata": {
    "id": "nAJwkfbqixpO"
   },
   "execution_count": 80,
   "outputs": []
  },
  {
   "cell_type": "code",
   "execution_count": null,
   "outputs": [],
   "source": [
    "learning_rate = .009\n",
    "layers = [784, 20, 7, 5, 10]\n",
    "batch_size = 512\n",
    "\n",
    "params, c, metadata = L_layer_model(x_train, y_train, layers, learning_rate, 300, batch_size, use_batchnorm=True, stop_eps=0.001)"
   ],
   "metadata": {
    "ExecuteTime": {
     "start_time": "2023-04-05T00:41:30.192414Z",
     "end_time": "2023-04-05T00:43:00.798334Z"
    },
    "id": "PXR8txg9hzDg",
    "outputId": "77668ac2-ad25-43bf-949f-ab6ad95008cc",
    "colab": {
     "base_uri": "https://localhost:8080/"
    }
   }
  },
  {
   "cell_type": "markdown",
   "source": [
    "## Final accuracy of the test set"
   ],
   "metadata": {
    "collapsed": false,
    "id": "FgwpFh1FhzDj"
   }
  },
  {
   "cell_type": "code",
   "execution_count": null,
   "outputs": [],
   "source": [
    "acc = predict(x_test, y_test, params, use_batchnorm=True) * 100\n",
    "print(f\"Test accuracy {acc:.2f}%\")"
   ],
   "metadata": {
    "ExecuteTime": {
     "start_time": "2023-04-05T01:36:57.888850Z",
     "end_time": "2023-04-05T01:36:59.410066Z"
    },
    "id": "qazNvrMWhzDk",
    "outputId": "634c0f33-a2d4-4b03-e1ce-43ff91ac98f1",
    "colab": {
     "base_uri": "https://localhost:8080/"
    }
   }
  },
  {
   "cell_type": "markdown",
   "source": [
    "## Saving model\n",
    "using pickle, the trained parameters, the train costs and some metadate are saved to a binary file."
   ],
   "metadata": {
    "collapsed": false
   }
  },
  {
   "cell_type": "code",
   "source": [
    "# Uncomment this cell if you want to save the trained model.\n",
    "\n",
    "# with open(f'model_{batch_size}', 'wb') as f:\n",
    "#     pickle.dump({\"params\": params, \"costs\": c, \"metadata\": metadata}, f)\n"
   ],
   "metadata": {
    "id": "Nm0AZy0Hj0B4"
   },
   "execution_count": 85,
   "outputs": []
  },
  {
   "cell_type": "markdown",
   "source": [
    "# Analyzing results"
   ],
   "metadata": {
    "collapsed": false
   }
  },
  {
   "cell_type": "code",
   "execution_count": 3,
   "outputs": [],
   "source": [
    "# Loading trained models\n",
    "\n",
    "models_files = os.listdir('./models')\n",
    "models = []\n",
    "for f_name in models_files:\n",
    "    with open(f\"models/{f_name}\", 'rb') as f:\n",
    "        models.append(pickle.load(f))"
   ],
   "metadata": {
    "collapsed": false,
    "ExecuteTime": {
     "start_time": "2023-04-05T14:16:03.143795Z",
     "end_time": "2023-04-05T14:16:03.198766Z"
    }
   }
  },
  {
   "cell_type": "code",
   "execution_count": 26,
   "outputs": [
    {
     "data": {
      "text/plain": "       runtime  epochs   val_acc  train_acc  batch_size  mini-batches  \\\n12   43.651016      19  0.944000   0.966583           8          6000   \n13  125.418927      50  0.942833   0.951875           8          6000   \n2    25.378762      17  0.935417   0.952937          16          3000   \n3    67.319424      50  0.941250   0.951042          16          3000   \n6    31.784331      22  0.942667   0.960750          32          1500   \n7    79.248267      71  0.940417   0.948417          32          1500   \n10   36.881586      34  0.938167   0.957104          64           750   \n11   65.502584      87  0.935833   0.944896          64           750   \n0    46.475286      55  0.935417   0.951708         128           375   \n1    68.332286     124  0.930750   0.934333         128           375   \n4    63.773872      78  0.929667   0.942667         256           188   \n5    96.499797     195  0.917250   0.923042         256           188   \n8    86.739040     110  0.921917   0.931104         512            94   \n9    93.689289     206  0.893500   0.899750         512            94   \n\n    batchnorm                                          val_costs  \n12      False                                                NaN  \n13       True  [0.6977927295900143, 0.5787129342145763, 0.521...  \n2       False                                                NaN  \n3        True  [0.8081158987511676, 0.6660523643069157, 0.590...  \n6       False                                                NaN  \n7        True  [1.0627067576027465, 0.8817479810502655, 0.781...  \n10      False                                                NaN  \n11       True  [1.359690118251841, 0.9627754101468413, 0.8567...  \n0       False                                                NaN  \n1        True  [1.7525354557554123, 1.307007043107348, 1.0533...  \n4       False                                                NaN  \n5        True  [2.032621969989815, 1.8103411528163849, 1.6411...  \n8       False                                                NaN  \n9        True  [2.222374913077533, 2.0105687955145943, 1.8463...  ",
      "text/html": "<div>\n<style scoped>\n    .dataframe tbody tr th:only-of-type {\n        vertical-align: middle;\n    }\n\n    .dataframe tbody tr th {\n        vertical-align: top;\n    }\n\n    .dataframe thead th {\n        text-align: right;\n    }\n</style>\n<table border=\"1\" class=\"dataframe\">\n  <thead>\n    <tr style=\"text-align: right;\">\n      <th></th>\n      <th>runtime</th>\n      <th>epochs</th>\n      <th>val_acc</th>\n      <th>train_acc</th>\n      <th>batch_size</th>\n      <th>mini-batches</th>\n      <th>batchnorm</th>\n      <th>val_costs</th>\n    </tr>\n  </thead>\n  <tbody>\n    <tr>\n      <th>12</th>\n      <td>43.651016</td>\n      <td>19</td>\n      <td>0.944000</td>\n      <td>0.966583</td>\n      <td>8</td>\n      <td>6000</td>\n      <td>False</td>\n      <td>NaN</td>\n    </tr>\n    <tr>\n      <th>13</th>\n      <td>125.418927</td>\n      <td>50</td>\n      <td>0.942833</td>\n      <td>0.951875</td>\n      <td>8</td>\n      <td>6000</td>\n      <td>True</td>\n      <td>[0.6977927295900143, 0.5787129342145763, 0.521...</td>\n    </tr>\n    <tr>\n      <th>2</th>\n      <td>25.378762</td>\n      <td>17</td>\n      <td>0.935417</td>\n      <td>0.952937</td>\n      <td>16</td>\n      <td>3000</td>\n      <td>False</td>\n      <td>NaN</td>\n    </tr>\n    <tr>\n      <th>3</th>\n      <td>67.319424</td>\n      <td>50</td>\n      <td>0.941250</td>\n      <td>0.951042</td>\n      <td>16</td>\n      <td>3000</td>\n      <td>True</td>\n      <td>[0.8081158987511676, 0.6660523643069157, 0.590...</td>\n    </tr>\n    <tr>\n      <th>6</th>\n      <td>31.784331</td>\n      <td>22</td>\n      <td>0.942667</td>\n      <td>0.960750</td>\n      <td>32</td>\n      <td>1500</td>\n      <td>False</td>\n      <td>NaN</td>\n    </tr>\n    <tr>\n      <th>7</th>\n      <td>79.248267</td>\n      <td>71</td>\n      <td>0.940417</td>\n      <td>0.948417</td>\n      <td>32</td>\n      <td>1500</td>\n      <td>True</td>\n      <td>[1.0627067576027465, 0.8817479810502655, 0.781...</td>\n    </tr>\n    <tr>\n      <th>10</th>\n      <td>36.881586</td>\n      <td>34</td>\n      <td>0.938167</td>\n      <td>0.957104</td>\n      <td>64</td>\n      <td>750</td>\n      <td>False</td>\n      <td>NaN</td>\n    </tr>\n    <tr>\n      <th>11</th>\n      <td>65.502584</td>\n      <td>87</td>\n      <td>0.935833</td>\n      <td>0.944896</td>\n      <td>64</td>\n      <td>750</td>\n      <td>True</td>\n      <td>[1.359690118251841, 0.9627754101468413, 0.8567...</td>\n    </tr>\n    <tr>\n      <th>0</th>\n      <td>46.475286</td>\n      <td>55</td>\n      <td>0.935417</td>\n      <td>0.951708</td>\n      <td>128</td>\n      <td>375</td>\n      <td>False</td>\n      <td>NaN</td>\n    </tr>\n    <tr>\n      <th>1</th>\n      <td>68.332286</td>\n      <td>124</td>\n      <td>0.930750</td>\n      <td>0.934333</td>\n      <td>128</td>\n      <td>375</td>\n      <td>True</td>\n      <td>[1.7525354557554123, 1.307007043107348, 1.0533...</td>\n    </tr>\n    <tr>\n      <th>4</th>\n      <td>63.773872</td>\n      <td>78</td>\n      <td>0.929667</td>\n      <td>0.942667</td>\n      <td>256</td>\n      <td>188</td>\n      <td>False</td>\n      <td>NaN</td>\n    </tr>\n    <tr>\n      <th>5</th>\n      <td>96.499797</td>\n      <td>195</td>\n      <td>0.917250</td>\n      <td>0.923042</td>\n      <td>256</td>\n      <td>188</td>\n      <td>True</td>\n      <td>[2.032621969989815, 1.8103411528163849, 1.6411...</td>\n    </tr>\n    <tr>\n      <th>8</th>\n      <td>86.739040</td>\n      <td>110</td>\n      <td>0.921917</td>\n      <td>0.931104</td>\n      <td>512</td>\n      <td>94</td>\n      <td>False</td>\n      <td>NaN</td>\n    </tr>\n    <tr>\n      <th>9</th>\n      <td>93.689289</td>\n      <td>206</td>\n      <td>0.893500</td>\n      <td>0.899750</td>\n      <td>512</td>\n      <td>94</td>\n      <td>True</td>\n      <td>[2.222374913077533, 2.0105687955145943, 1.8463...</td>\n    </tr>\n  </tbody>\n</table>\n</div>"
     },
     "execution_count": 26,
     "metadata": {},
     "output_type": "execute_result"
    }
   ],
   "source": [
    "df = pd.DataFrame(map(lambda m: m['metadata'], models)).sort_values('batch_size')\n",
    "df.batchnorm = df.batchnorm.fillna(False)\n",
    "df"
   ],
   "metadata": {
    "collapsed": false,
    "ExecuteTime": {
     "start_time": "2023-04-05T15:35:03.274380Z",
     "end_time": "2023-04-05T15:35:03.494723Z"
    }
   }
  },
  {
   "cell_type": "code",
   "execution_count": 43,
   "outputs": [
    {
     "data": {
      "text/plain": "<Figure size 1000x500 with 1 Axes>",
      "image/png": "[encoded data removed]"
     },
     "metadata": {},
     "output_type": "display_data"
    }
   ],
   "source": [
    "# Runtime plotting\n",
    "\n",
    "fig = plt.figure(figsize=(10,5))\n",
    "ax = fig.add_subplot(111)\n",
    "width = 0.2\n",
    "\n",
    "df[df.batchnorm].plot.bar(x='batch_size', y='runtime', color='blue', ax=ax, position=0, width=width)\n",
    "df[~df.batchnorm].plot.bar(x='batch_size', y='runtime', color='orange', ax=ax, position=1, width=width)\n",
    "\n",
    "ax.legend(['With Batch Norm.', 'Without Batch Norm.'])\n",
    "\n",
    "ax.set_xlabel(\"Batch Size\")\n",
    "ax.set_ylabel(\"Training Time (s)\")\n",
    "\n",
    "plt.title(\"Training Time over Batch Sizes\")\n",
    "\n",
    "plt.savefig('runtime.png')\n",
    "plt.show()"
   ],
   "metadata": {
    "collapsed": false,
    "ExecuteTime": {
     "start_time": "2023-04-05T15:53:36.404021Z",
     "end_time": "2023-04-05T15:53:39.326444Z"
    }
   }
  },
  {
   "cell_type": "code",
   "execution_count": 46,
   "outputs": [
    {
     "data": {
      "text/plain": "<Figure size 1000x500 with 1 Axes>",
      "image/png": "[encoded data removed]"
     },
     "metadata": {},
     "output_type": "display_data"
    }
   ],
   "source": [
    "# Epoch numbers\n",
    "\n",
    "fig = plt.figure(figsize=(10,5))\n",
    "ax = fig.add_subplot(111)\n",
    "width = 0.2\n",
    "\n",
    "df[df.batchnorm].plot.bar(x='batch_size', y='epochs', color='blue', ax=ax, position=0, width=width)\n",
    "df[~df.batchnorm].plot.bar(x='batch_size', y='epochs', color='orange', ax=ax, position=1, width=width)\n",
    "\n",
    "ax.legend(['With Batch Norm.', 'Without Batch Norm.'])\n",
    "\n",
    "ax.set_xlabel(\"Batch Size\")\n",
    "ax.set_ylabel(\"# Epochs\")\n",
    "\n",
    "plt.title(\"Number of Training Epochs over Batch Sizes\")\n",
    "\n",
    "plt.savefig('epochs.png')\n",
    "plt.show()"
   ],
   "metadata": {
    "collapsed": false,
    "ExecuteTime": {
     "start_time": "2023-04-05T15:57:14.434368Z",
     "end_time": "2023-04-05T15:57:19.332482Z"
    }
   }
  },
  {
   "cell_type": "markdown",
   "source": [
    "## Plotting the loss for a model for inspection"
   ],
   "metadata": {
    "collapsed": false
   }
  },
  {
   "cell_type": "code",
   "execution_count": 47,
   "outputs": [
    {
     "name": "stdout",
     "output_type": "stream",
     "text": [
      "100. Train loss = 2.04713\n",
      "200. Train loss = 1.96835\n",
      "300. Train loss = 1.83709\n",
      "400. Train loss = 1.77226\n",
      "500. Train loss = 1.59711\n",
      "600. Train loss = 1.56984\n",
      "700. Train loss = 1.54434\n",
      "800. Train loss = 1.46903\n",
      "900. Train loss = 1.42682\n",
      "1000. Train loss = 1.43157\n",
      "1100. Train loss = 1.35693\n",
      "1200. Train loss = 1.38343\n",
      "1300. Train loss = 1.35528\n",
      "1400. Train loss = 1.31660\n",
      "1500. Train loss = 1.20676\n",
      "1600. Train loss = 1.27836\n",
      "1700. Train loss = 1.19854\n",
      "1800. Train loss = 1.18971\n",
      "1900. Train loss = 1.15425\n",
      "2000. Train loss = 1.19524\n",
      "2100. Train loss = 1.09824\n",
      "2200. Train loss = 1.10596\n",
      "2300. Train loss = 1.02904\n",
      "2400. Train loss = 1.01947\n",
      "2500. Train loss = 1.02697\n",
      "2600. Train loss = 0.91865\n",
      "2700. Train loss = 0.93111\n",
      "2800. Train loss = 0.95184\n",
      "2900. Train loss = 0.90703\n",
      "3000. Train loss = 0.86857\n",
      "3100. Train loss = 0.81475\n",
      "3200. Train loss = 0.71764\n",
      "3300. Train loss = 0.66119\n",
      "3400. Train loss = 0.74310\n",
      "3500. Train loss = 0.61947\n",
      "3600. Train loss = 0.60429\n",
      "3700. Train loss = 0.56177\n",
      "3800. Train loss = 0.52931\n",
      "3900. Train loss = 0.56244\n",
      "4000. Train loss = 0.53683\n",
      "4100. Train loss = 0.50721\n",
      "4200. Train loss = 0.57061\n",
      "4300. Train loss = 0.48400\n",
      "4400. Train loss = 0.45139\n",
      "4500. Train loss = 0.46735\n",
      "4600. Train loss = 0.38620\n",
      "4700. Train loss = 0.42527\n",
      "4800. Train loss = 0.57117\n",
      "4900. Train loss = 0.37627\n",
      "5000. Train loss = 0.43827\n",
      "5100. Train loss = 0.41791\n",
      "5200. Train loss = 0.43282\n",
      "5300. Train loss = 0.32367\n",
      "5400. Train loss = 0.40094\n",
      "5500. Train loss = 0.36194\n",
      "5600. Train loss = 0.31295\n",
      "5700. Train loss = 0.34126\n",
      "5800. Train loss = 0.32426\n",
      "5900. Train loss = 0.39812\n",
      "6000. Train loss = 0.34487\n",
      "6100. Train loss = 0.32231\n",
      "6200. Train loss = 0.36612\n",
      "6300. Train loss = 0.38518\n",
      "6400. Train loss = 0.40786\n",
      "6500. Train loss = 0.38051\n",
      "6600. Train loss = 0.28344\n",
      "6700. Train loss = 0.33363\n",
      "6800. Train loss = 0.41397\n",
      "6900. Train loss = 0.35690\n",
      "7000. Train loss = 0.28593\n",
      "7100. Train loss = 0.30657\n",
      "7200. Train loss = 0.24721\n",
      "7300. Train loss = 0.32050\n",
      "7400. Train loss = 0.30734\n",
      "7500. Train loss = 0.33281\n",
      "7600. Train loss = 0.33356\n",
      "7700. Train loss = 0.32926\n",
      "7800. Train loss = 0.30003\n",
      "7900. Train loss = 0.25374\n",
      "8000. Train loss = 0.25838\n",
      "8100. Train loss = 0.40086\n",
      "8200. Train loss = 0.28087\n",
      "8300. Train loss = 0.26708\n",
      "8400. Train loss = 0.28327\n",
      "8500. Train loss = 0.27732\n",
      "8600. Train loss = 0.37285\n",
      "8700. Train loss = 0.32730\n",
      "8800. Train loss = 0.27783\n",
      "8900. Train loss = 0.34667\n",
      "9000. Train loss = 0.29122\n",
      "9100. Train loss = 0.25677\n",
      "9200. Train loss = 0.28161\n",
      "9300. Train loss = 0.20556\n",
      "9400. Train loss = 0.26773\n",
      "9500. Train loss = 0.38860\n",
      "9600. Train loss = 0.21826\n",
      "9700. Train loss = 0.30154\n",
      "9800. Train loss = 0.26579\n",
      "9900. Train loss = 0.31830\n",
      "10000. Train loss = 0.19200\n",
      "10100. Train loss = 0.25669\n",
      "10200. Train loss = 0.22046\n",
      "10300. Train loss = 0.20225\n"
     ]
    }
   ],
   "source": [
    "with open('models/model_512_mini', 'rb') as f:\n",
    "    m = pickle.load(f)\n",
    "\n",
    "for i, c in enumerate(m['costs']):\n",
    "    print(f\"{(i + 1) * 100}. Train loss = {c:.5f}\")"
   ],
   "metadata": {
    "collapsed": false,
    "ExecuteTime": {
     "start_time": "2023-04-05T16:08:21.752094Z",
     "end_time": "2023-04-05T16:08:22.102900Z"
    }
   }
  },
  {
   "cell_type": "code",
   "execution_count": 41,
   "outputs": [
    {
     "data": {
      "text/plain": "<Figure size 900x400 with 1 Axes>",
      "image/png": "[encoded data removed]"
     },
     "metadata": {},
     "output_type": "display_data"
    }
   ],
   "source": [
    "plt.figure(figsize=(9,4))\n",
    "plt.plot(m['costs'])\n",
    "plt.xlabel(\"Iteration Every 100 Updates\")\n",
    "plt.ylabel(\"Loss\")\n",
    "plt.title(\"Training Loss of 512 Batch Size - No Batch Norm.\")\n",
    "plt.savefig('training_loss.png')\n",
    "plt.show()"
   ],
   "metadata": {
    "collapsed": false,
    "ExecuteTime": {
     "start_time": "2023-04-05T15:49:54.513358Z",
     "end_time": "2023-04-05T15:49:58.009320Z"
    }
   }
  }
 ]
}
