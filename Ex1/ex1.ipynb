{
 "nbformat": 4,
 "nbformat_minor": 0,
 "metadata": {
  "colab": {
   "provenance": [],
   "authorship_tag": "ABX9TyNTn65kxBDiZiIHPKjhSHHz"
  },
  "kernelspec": {
   "name": "python3",
   "language": "python",
   "display_name": "Python 3 (ipykernel)"
  },
  "language_info": {
   "name": "python"
  }
 },
 "cells": [
  {
   "cell_type": "markdown",
   "source": [
    "# Deep Learning - Assigment 1\n",
    "\n",
    "Sagiv Melamed - I.D.\n",
    "Dan Peled - I.D. 211547013"
   ],
   "metadata": {
    "collapsed": false
   }
  },
  {
   "cell_type": "code",
   "execution_count": 1,
   "outputs": [],
   "source": [
    "# imports\n",
    "import numpy as np\n",
    "# from util import *\n",
    "import pandas as pd\n",
    "from sklearn.preprocessing import LabelEncoder\n",
    "from sklearn.metrics import accuracy_score\n",
    "from typing import Callable\n",
    "import tensorflow as tf"
   ],
   "metadata": {
    "collapsed": false,
    "ExecuteTime": {
     "start_time": "2023-04-05T00:37:45.931997Z",
     "end_time": "2023-04-05T00:38:00.802582Z"
    }
   }
  },
  {
   "cell_type": "markdown",
   "source": [
    "# Part 1\n",
    "This section contains the implementations of the forward propagation"
   ],
   "metadata": {
    "collapsed": false
   }
  },
  {
   "cell_type": "code",
   "execution_count": 2,
   "outputs": [],
   "source": [
    "def initialize_parameters(layers_dims: list) -> dict:\n",
    "    \"\"\"\n",
    "    Create an ANN architecture depending on layers_dims\n",
    "    :param layers_dims: list of layers dimentions\n",
    "    :type layers_dims: list\n",
    "    :return: dictionary built as follows:\n",
    "        W: list of matrices representing layer's weights, initialized randomly,\n",
    "        b: list of biases for each layer, initialized to zero\n",
    "    :rtype: dict\n",
    "    \"\"\"\n",
    "    # Create W\n",
    "\n",
    "    W_sizes = [(next_dim, current_dim) for current_dim, next_dim in zip(layers_dims[:-1], layers_dims[1:])]\n",
    "    W = [np.random.randn(*Wi_size) * np.sqrt(2 / Wi_size[1]) for Wi_size in W_sizes]\n",
    "\n",
    "    # create b\n",
    "\n",
    "    b_sizes = layers_dims[1:]\n",
    "    b = [np.zeros((bi_size, 1)) for bi_size in b_sizes]\n",
    "\n",
    "    return {\n",
    "        \"W\": W,\n",
    "        \"b\": b\n",
    "    }\n"
   ],
   "metadata": {
    "collapsed": false,
    "ExecuteTime": {
     "start_time": "2023-04-05T00:38:00.815038Z",
     "end_time": "2023-04-05T00:38:00.884307Z"
    }
   }
  },
  {
   "cell_type": "code",
   "execution_count": 3,
   "outputs": [],
   "source": [
    "def linear_forward(A: np.ndarray, W: np.ndarray, B: np.ndarray) -> dict:\n",
    "    \"\"\"\n",
    "    Performing linear forward on NN\n",
    "    :param A: Activation vector of previous layer\n",
    "    :type A: np.ndarray\n",
    "    :param W: Weight matrix of the current layer\n",
    "    :type W: np.ndarray\n",
    "    :param B: Bias vector of the current layer\n",
    "    :type B: np.ndarray\n",
    "    :return: dictionary built as follows:\n",
    "        Z: linear component of activation function\n",
    "        linear_cache: A,W,B\n",
    "    :rtype: dict\n",
    "    \"\"\"\n",
    "    return {\n",
    "        \"Z\": W.dot(A) + B,\n",
    "        \"linear_cache\": {\n",
    "            \"A\": A,\n",
    "            \"W\": W,\n",
    "            \"B\": B\n",
    "        }\n",
    "    }"
   ],
   "metadata": {
    "collapsed": false,
    "ExecuteTime": {
     "start_time": "2023-04-05T00:38:00.837714Z",
     "end_time": "2023-04-05T00:38:00.885301Z"
    }
   }
  },
  {
   "cell_type": "markdown",
   "source": [
    "Activation functions:"
   ],
   "metadata": {
    "collapsed": false
   }
  },
  {
   "cell_type": "code",
   "execution_count": 4,
   "outputs": [],
   "source": [
    "def softmax(Z: np.ndarray) -> dict:\n",
    "    \"\"\"\n",
    "    Applying softmax on Z\n",
    "    :param Z: the linear component of the activation function\n",
    "    :type Z: np.ndarray\n",
    "    :return: dictionary built as follows:\n",
    "        A: Activation of th layer\n",
    "        activation_cache: Z\n",
    "    :rtype: dict\n",
    "    \"\"\"\n",
    "    # To avoid overflow in the exponent we will subtract the max value from z\n",
    "    # and perform softmax on that. The mathematical proof provided in the report.\n",
    "    z = np.copy(Z)\n",
    "    z -= z.max(axis=0)\n",
    "    return {\n",
    "        \"A\": np.exp(z) / np.exp(z).sum(axis=0),\n",
    "        \"activation_cache\": {\n",
    "            \"Z\": Z\n",
    "        }\n",
    "    }\n",
    "\n",
    "\n",
    "def relu(Z: np.ndarray) -> dict:\n",
    "    \"\"\"\n",
    "        Applying relu on Z\n",
    "        :param Z: the linear component of the activation function\n",
    "        :type Z: np.ndarray\n",
    "        :return: dictionary built as follows:\n",
    "            A: Activation of th layer\n",
    "            activation_cache: Z\n",
    "        :rtype: dict\n",
    "        \"\"\"\n",
    "    return {\n",
    "        \"A\": np.maximum(0, Z),\n",
    "        \"activation_cache\": {\n",
    "            \"Z\": Z\n",
    "        }\n",
    "    }\n"
   ],
   "metadata": {
    "collapsed": false,
    "ExecuteTime": {
     "start_time": "2023-04-05T00:38:00.894022Z",
     "end_time": "2023-04-05T00:38:00.952593Z"
    }
   }
  },
  {
   "cell_type": "code",
   "execution_count": 5,
   "outputs": [],
   "source": [
    "def linear_activation_forward(A_prev: np.ndarray, W: np.ndarray, B: np.ndarray,\n",
    "                              activation: Callable[[np.ndarray], dict]) -> dict:\n",
    "    cache = {}\n",
    "    linear = linear_forward(A_prev, W, B)\n",
    "    z, linear_cache = linear['Z'], linear['linear_cache']\n",
    "\n",
    "    active = activation(z)\n",
    "    a, activation_cache = active['A'], active['activation_cache']\n",
    "\n",
    "    cache['linear_cache'] = linear_cache\n",
    "    cache['activation_cache'] = activation_cache\n",
    "\n",
    "    return {\n",
    "        \"A\": a,\n",
    "        \"cache\": cache\n",
    "    }\n"
   ],
   "metadata": {
    "collapsed": false,
    "ExecuteTime": {
     "start_time": "2023-04-05T00:38:00.934833Z",
     "end_time": "2023-04-05T00:38:00.987803Z"
    }
   }
  },
  {
   "cell_type": "code",
   "execution_count": 6,
   "outputs": [],
   "source": [
    "def L_model_forward(X: np.ndarray, parameters: dict, use_batchnorm: bool = False):\n",
    "    \"\"\"\n",
    "\n",
    "    :param X: matrix of inputs\n",
    "    :type X: np.ndarray\n",
    "    :param parameters: a dict like object containing W and b\n",
    "    :type parameters: dict\n",
    "    :param use_batchnorm: whether to use batch normalization or not\n",
    "    :type use_batchnorm: bool\n",
    "    :return:\n",
    "        dictionary containing the activation of the ANN represented by the parameters on X and cache actions\n",
    "    :rtype:\n",
    "        dict\n",
    "    \"\"\"\n",
    "    cache_list = list()\n",
    "    a = X\n",
    "\n",
    "    # Relu layers\n",
    "    for W_i, b_i in zip(parameters[\"W\"][:-1], parameters[\"b\"][:-1]):\n",
    "        results = linear_activation_forward(a, W_i, b_i, relu)\n",
    "        a = results['A']\n",
    "        if use_batchnorm:\n",
    "            a = apply_batchnorm(a)\n",
    "\n",
    "        cache_list.append(results['cache'])\n",
    "\n",
    "    # Softmax layer\n",
    "    results = linear_activation_forward(a, parameters[\"W\"][-1], parameters[\"b\"][-1], softmax)\n",
    "    cache_list.append(results['cache'])\n",
    "    return results['A'], cache_list\n",
    "\n"
   ],
   "metadata": {
    "collapsed": false,
    "ExecuteTime": {
     "start_time": "2023-04-05T00:38:00.963204Z",
     "end_time": "2023-04-05T00:38:01.059596Z"
    }
   }
  },
  {
   "cell_type": "code",
   "execution_count": 7,
   "outputs": [],
   "source": [
    "def compute_cost(Al: np.ndarray, Y: np.ndarray):\n",
    "    \"\"\"\n",
    "    Compute loss(cost) using prediction(Al) and true values(Y)\n",
    "    :param Al:\n",
    "    :type Al:\n",
    "    :param Y:\n",
    "    :type Y:\n",
    "    :return:\n",
    "    :rtype:\n",
    "    \"\"\"\n",
    "    return np.sum(Y * np.log(Al)) / -Y.shape[1]"
   ],
   "metadata": {
    "collapsed": false,
    "ExecuteTime": {
     "start_time": "2023-04-05T00:38:00.998853Z",
     "end_time": "2023-04-05T00:38:01.061109Z"
    }
   }
  },
  {
   "cell_type": "code",
   "execution_count": 8,
   "outputs": [],
   "source": [
    "def apply_batchnorm(A: np.ndarray) -> np.ndarray:\n",
    "    mean = A.mean()\n",
    "    std = A.std()\n",
    "\n",
    "    return (A - mean) / np.sqrt(std ** 2 + .0001)  # plus .0001 to avoid zero division"
   ],
   "metadata": {
    "collapsed": false,
    "ExecuteTime": {
     "start_time": "2023-04-05T00:38:01.030769Z",
     "end_time": "2023-04-05T00:38:01.061642Z"
    }
   }
  },
  {
   "cell_type": "markdown",
   "source": [
    "# Part 2\n",
    "\n",
    "This part contains functions related to the back propagation"
   ],
   "metadata": {
    "collapsed": false
   }
  },
  {
   "cell_type": "code",
   "execution_count": 9,
   "outputs": [],
   "source": [
    "def linear_backward(dZ: np.ndarray, cache: dict):\n",
    "    \"\"\"\n",
    "Implements the linear part of the backward propagation process for a single layer\n",
    "    :param dZ: the gradient of the cost with respect to the linear output of the current laye\n",
    "    :type dZ: np.ndarray\n",
    "    :param cache:\n",
    "    :type cache: dict\n",
    "    :return:\n",
    "        tuple of derivatives dA,dW,dB\n",
    "    :rtype:\n",
    "    \"\"\"\n",
    "    m = cache[\"A\"].shape[1]\n",
    "\n",
    "    dA = cache[\"W\"].T.dot(dZ)\n",
    "    dW = dZ.dot(cache['A'].T) / m\n",
    "    dB = np.sum(dZ, axis=1, keepdims=True) / m\n",
    "    return dA, dW, dB"
   ],
   "metadata": {
    "collapsed": false,
    "ExecuteTime": {
     "start_time": "2023-04-05T00:38:01.059596Z",
     "end_time": "2023-04-05T00:38:01.081055Z"
    }
   }
  },
  {
   "cell_type": "code",
   "execution_count": 10,
   "outputs": [],
   "source": [
    "def linear_activation_backward(dA: np.ndarray, cache: dict, activation):\n",
    "    \"\"\"\n",
    "    Implements the backward propagation for the LINEAR->ACTIVATION layer. The function first computes dZ and then applies the linear_backward function.\n",
    "    :param dA: post activation gradient of the current layer\n",
    "    :type dA: np.ndarray\n",
    "    :param cache: contains both the linear cache and the activations cache\n",
    "    :type cache: dict\n",
    "    :param activation: activation backward function\n",
    "    :type activation:\n",
    "    :return:\n",
    "                tuple of derivatives dA,dW,dB\n",
    "    :rtype:\n",
    "    \"\"\"\n",
    "    dZ = activation(dA, cache['activation_cache'])\n",
    "    return linear_backward(dZ, cache['linear_cache'])"
   ],
   "metadata": {
    "collapsed": false,
    "ExecuteTime": {
     "start_time": "2023-04-05T00:38:01.096327Z",
     "end_time": "2023-04-05T00:38:01.200463Z"
    }
   }
  },
  {
   "cell_type": "code",
   "execution_count": 11,
   "outputs": [],
   "source": [
    "def relu_backward(dA: np.ndarray, activation_catch: dict):\n",
    "    \"\"\"\n",
    "    Implements backward propagation for a ReLU unit\n",
    "    :param dA: the post-activation gradient\n",
    "    :type dA: np.ndarray\n",
    "    :param activation_catch: contains Z (stored during the forward propagation)\n",
    "    :type activation_catch: dict\n",
    "    :return:\n",
    "        derivative of Z\n",
    "    :rtype:\n",
    "        np.ndarray\n",
    "    \"\"\"\n",
    "    dZ = np.array(dA, copy=True)\n",
    "    dZ[activation_catch['Z'] <= 0] = 0\n",
    "    return dZ\n",
    "\n",
    "\n",
    "def softmax_backward(dA, activation_cache):\n",
    "    return dA\n"
   ],
   "metadata": {
    "collapsed": false,
    "ExecuteTime": {
     "start_time": "2023-04-05T00:38:01.122048Z",
     "end_time": "2023-04-05T00:38:01.200463Z"
    }
   }
  },
  {
   "cell_type": "code",
   "execution_count": 12,
   "outputs": [],
   "source": [
    "def l_model_backward(Al: np.ndarray, Y: np.ndarray, caches: list):\n",
    "    \"\"\"\n",
    "    Implement the backward propagation process for the entire network.\n",
    "    :param Al: the probabilities vector, the output of the forward propagation\n",
    "    :type Al: np.ndarray\n",
    "    :param Y: the true labels vector (the \"ground truth\" - true classifications)\n",
    "    :type Y: np.ndarray\n",
    "    :param caches: contains Z (stored during the forward propagation)\n",
    "    :type caches: dict\n",
    "    :return:\n",
    "    gradient of the cost with respect to Z\n",
    "    :rtype:\n",
    "    np.ndarray\n",
    "    \"\"\"\n",
    "    layers = len(caches)\n",
    "    grads = dict()\n",
    "\n",
    "    ## compute the gradient on predictions\n",
    "\n",
    "    # softmax layer update\n",
    "    current_cache = caches[layers - 1]\n",
    "    dA_last = Al - Y  # gradient of loss function and softmax\n",
    "    grads[f\"dA_{layers - 1}\"], grads[f\"dW_{layers - 1}\"], grads[f\"dB_{layers - 1}\"] = \\\n",
    "            linear_activation_backward(dA_last, current_cache, softmax_backward)\n",
    "    # Layers update\n",
    "    for l in reversed(range(layers - 1)):\n",
    "        current_cache = caches[l]\n",
    "        grads[f\"dA_{l}\"], grads[f\"dW_{l}\"], grads[f\"dB_{l}\"] = \\\n",
    "            linear_activation_backward(grads[f\"dA_{l + 1}\"], current_cache, relu_backward)\n",
    "        # dA = grads[f\"dA_{layers - i}\"]\n",
    "    return grads\n"
   ],
   "metadata": {
    "collapsed": false,
    "ExecuteTime": {
     "start_time": "2023-04-05T00:38:01.160289Z",
     "end_time": "2023-04-05T00:38:01.201996Z"
    }
   }
  },
  {
   "cell_type": "code",
   "execution_count": 13,
   "outputs": [],
   "source": [
    "def update_parameters(parameters: dict, grads: dict, learning_rate: float):\n",
    "    \"\"\"\n",
    "    Updates parameters using gradient descent\n",
    "    :param parameters: parameters of the ANN\n",
    "    :type parameters: dict\n",
    "    :param grads: – a python dictionary containing the gradients (generated by L_model_backward)\n",
    "    :type grads: dict\n",
    "    :param learning_rate: the learning rate used to update\n",
    "    :type learning_rate: float\n",
    "    :return:\n",
    "        Updated parameters of the ANN\n",
    "    :rtype:\n",
    "        dict\n",
    "    \"\"\"\n",
    "    for index in range(len(parameters[\"W\"])):\n",
    "        parameters['W'][index] -= learning_rate * grads[f'dW_{index}']\n",
    "        parameters['b'][index] -= learning_rate * grads[f'dB_{index}']\n",
    "    return parameters\n"
   ],
   "metadata": {
    "collapsed": false,
    "ExecuteTime": {
     "start_time": "2023-04-05T00:38:01.180184Z",
     "end_time": "2023-04-05T00:38:01.260958Z"
    }
   }
  },
  {
   "cell_type": "markdown",
   "source": [
    "# Part 3\n",
    "\n",
    "This part contains the functions of training and testing a model"
   ],
   "metadata": {
    "collapsed": false
   }
  },
  {
   "cell_type": "code",
   "execution_count": 14,
   "outputs": [],
   "source": [
    "def _build_mini_batches(X, Y, batch_size):\n",
    "    \"\"\"\n",
    "    Splits the data set to mini-batches in size of batch_size.\n",
    "    If the dataset length divides with a remaining by batch_size, another mini-batch will be appended in the size of the remaining.\n",
    "    :param X:\n",
    "    :param Y:\n",
    "    :param batch_size:\n",
    "    :return: list of mini-batches structured by (x,y)\n",
    "    \"\"\"\n",
    "\n",
    "    # Shuffle the dataset first\n",
    "    permutation = np.random.permutation(Y.shape[1])\n",
    "    x_shuffled, y_shuffled = X[:, permutation], Y[:, permutation]\n",
    "\n",
    "    batches_count, remain = divmod(Y.shape[1], batch_size)\n",
    "    mini_batches = []\n",
    "    for i in range(batches_count):\n",
    "        mini_x = x_shuffled[:, i * batch_size:(i + 1) * batch_size]\n",
    "        mini_y = y_shuffled[:, i * batch_size:(i + 1) * batch_size]\n",
    "        mini_batches.append((mini_x, mini_y))\n",
    "\n",
    "    if remain:\n",
    "        mini_x = x_shuffled[:, -remain:]\n",
    "        mini_y = y_shuffled[:, -remain:]\n",
    "        mini_batches.append((mini_x, mini_y))\n",
    "\n",
    "    return mini_batches"
   ],
   "metadata": {
    "collapsed": false,
    "ExecuteTime": {
     "start_time": "2023-04-05T00:38:01.209065Z",
     "end_time": "2023-04-05T00:38:01.308728Z"
    }
   }
  },
  {
   "cell_type": "code",
   "execution_count": 15,
   "outputs": [],
   "source": [
    "def L_layer_model(X, Y, layer_dims, learning_rate, num_iterations, batch_size, stop_eps=1e-5):\n",
    "    \"\"\"\n",
    "    Train a model for one epoch.\n",
    "\n",
    "    :param X: The training data\n",
    "    :param Y: The training data's labels\n",
    "    :param layer_dims: iterable of integers represents the number of neurons in every layer.\n",
    "    :param learning_rate: the learning rate of the model\n",
    "    :param num_iterations: maximum number of epochs, if the stopping by the validation won't occur.\n",
    "    :param batch_size: size of 1 individual batch to feed the model at once.\n",
    "    :param stop_eps: optional, the bound of validation cose change for stop training. default 1e-5.\n",
    "    :return: tuple of (parameters, costs). parameters are the trained model, and costs are the loss for every 100 iterations.\n",
    "    \"\"\"\n",
    "\n",
    "    (x_train, y_train), (x_val, y_val) = _split_train_val(X, Y)\n",
    "    mini_batches = _build_mini_batches(x_train, y_train, batch_size)\n",
    "\n",
    "    params = initialize_parameters(layer_dims)\n",
    "\n",
    "    costs = []\n",
    "    last_val_cost = -np.inf\n",
    "    for i in range(1, num_iterations + 1):\n",
    "        print(f\"Start epoch {i}\")\n",
    "        # Train\n",
    "        for (x, y) in mini_batches:\n",
    "            al, caches = L_model_forward(x, params)\n",
    "            # if i % 100 == 0:\n",
    "            #     costs.append(compute_cost(al, y))\n",
    "            grads = l_model_backward(al, y, caches)\n",
    "            params = update_parameters(params, grads, learning_rate)\n",
    "\n",
    "        # Validation\n",
    "        val_al, _ = L_model_forward(x_val, params)\n",
    "        val_cost = compute_cost(val_al, y_val)\n",
    "        print(f\"End epoch {i} - {val_cost=}\")\n",
    "        if i > 15 and np.abs(val_cost - last_val_cost) < stop_eps:\n",
    "            # The stopping checking is done only after 15 epochs to avoid fast stopping on high cost\n",
    "            print(f\"Stopping after the validation cost wasn't changed: {last_val_cost=}, {val_cost=}\"\n",
    "                  f\" diff={np.abs(val_cost - last_val_cost)}\")\n",
    "            break\n",
    "        last_val_cost = val_cost\n",
    "\n",
    "    return params, costs\n"
   ],
   "metadata": {
    "collapsed": false,
    "ExecuteTime": {
     "start_time": "2023-04-05T00:38:01.273637Z",
     "end_time": "2023-04-05T00:38:01.311245Z"
    }
   }
  },
  {
   "cell_type": "code",
   "execution_count": 16,
   "outputs": [],
   "source": [
    "def predict(X, Y, parameters, use_batchnorm: bool=False):\n",
    "    predicted, _ = L_model_forward(X, parameters, use_batchnorm)\n",
    "    diff = np.argmax(predicted, axis=0) == np.argmax(Y, axis=0)\n",
    "    return diff.sum() / len(diff)\n"
   ],
   "metadata": {
    "collapsed": false,
    "ExecuteTime": {
     "start_time": "2023-04-05T00:38:01.311245Z",
     "end_time": "2023-04-05T00:38:01.354767Z"
    }
   }
  },
  {
   "cell_type": "markdown",
   "source": [
    "# Part 4\n",
    "Training the model over MNIST dataset."
   ],
   "metadata": {
    "collapsed": false
   }
  },
  {
   "cell_type": "markdown",
   "source": [
    "## Loading the dataset"
   ],
   "metadata": {
    "collapsed": false
   }
  },
  {
   "cell_type": "code",
   "execution_count": 17,
   "outputs": [],
   "source": [
    "def _to_matrix(y):\n",
    "    \"\"\"\n",
    "    This function takes the y vector from the MNIST dataset and transform it to one-hot matrix\n",
    "    :param y:\n",
    "    :return:\n",
    "    \"\"\"\n",
    "    return np.eye(10)[y].T"
   ],
   "metadata": {
    "collapsed": false,
    "ExecuteTime": {
     "start_time": "2023-04-05T00:38:01.333930Z",
     "end_time": "2023-04-05T00:38:01.402407Z"
    }
   }
  },
  {
   "cell_type": "code",
   "execution_count": 18,
   "outputs": [],
   "source": [
    "def _split_train_val(X, Y, ratio=0.2):\n",
    "    \"\"\"\n",
    "    Splits train set to train and validation\n",
    "    :param X:\n",
    "    :param Y:\n",
    "    :return: (x_train, y_train), (x_val, y_val)\n",
    "    \"\"\"\n",
    "    valdition_count = int(ratio * Y.shape[1])\n",
    "    val_mask = np.zeros(Y.shape[1])\n",
    "    val_mask[:valdition_count] = 1\n",
    "    np.random.shuffle(val_mask)\n",
    "    val_mask = val_mask.astype(bool)\n",
    "    x_val, y_val = X[:, val_mask], Y[:, val_mask]\n",
    "    x_train, y_train = X[:, ~val_mask], Y[:, ~val_mask]\n",
    "\n",
    "    return (x_train, y_train), (x_val, y_val)"
   ],
   "metadata": {
    "collapsed": false,
    "ExecuteTime": {
     "start_time": "2023-04-05T00:38:01.354767Z",
     "end_time": "2023-04-05T00:38:01.440029Z"
    }
   }
  },
  {
   "cell_type": "code",
   "execution_count": 19,
   "outputs": [],
   "source": [
    "(x_train, y_train), (x_test, y_test) = tf.keras.datasets.mnist.load_data()\n",
    "\n",
    "x_train = np.moveaxis(x_train, 0, -1).reshape((784, -1)) / 255.0\n",
    "x_test = np.moveaxis(x_test, 0, -1).reshape((784, -1)) / 255.0\n",
    "\n",
    "y_train = _to_matrix(y_train)\n",
    "y_test = _to_matrix(y_test)"
   ],
   "metadata": {
    "collapsed": false,
    "ExecuteTime": {
     "start_time": "2023-04-05T00:38:01.391738Z",
     "end_time": "2023-04-05T00:38:02.384069Z"
    }
   }
  },
  {
   "cell_type": "markdown",
   "source": [
    "## Training the model"
   ],
   "metadata": {
    "collapsed": false
   }
  },
  {
   "cell_type": "code",
   "execution_count": 21,
   "outputs": [
    {
     "name": "stdout",
     "output_type": "stream",
     "text": [
      "Start epoch 1\n",
      "End epoch 1 - val_cost=0.9092008918220889\n",
      "Start epoch 2\n",
      "End epoch 2 - val_cost=0.5316926194510322\n",
      "Start epoch 3\n",
      "End epoch 3 - val_cost=0.40598760212291374\n",
      "Start epoch 4\n",
      "End epoch 4 - val_cost=0.3597123837938774\n",
      "Start epoch 5\n",
      "End epoch 5 - val_cost=0.3349074814412652\n",
      "Start epoch 6\n",
      "End epoch 6 - val_cost=0.31885575583033715\n",
      "Start epoch 7\n",
      "End epoch 7 - val_cost=0.30686385383419257\n",
      "Start epoch 8\n",
      "End epoch 8 - val_cost=0.2978668133821996\n",
      "Start epoch 9\n",
      "End epoch 9 - val_cost=0.28968618503559823\n",
      "Start epoch 10\n",
      "End epoch 10 - val_cost=0.2826114138077658\n",
      "Start epoch 11\n",
      "End epoch 11 - val_cost=0.2775013397572635\n",
      "Start epoch 12\n",
      "End epoch 12 - val_cost=0.2726681269994133\n",
      "Start epoch 13\n",
      "End epoch 13 - val_cost=0.26898019258432265\n",
      "Start epoch 14\n",
      "End epoch 14 - val_cost=0.2654857848339958\n",
      "Start epoch 15\n",
      "End epoch 15 - val_cost=0.26275552520511564\n",
      "Start epoch 16\n",
      "End epoch 16 - val_cost=0.2599506904740327\n",
      "Start epoch 17\n",
      "End epoch 17 - val_cost=0.25759852148583784\n",
      "Start epoch 18\n",
      "End epoch 18 - val_cost=0.2564740905570995\n",
      "Start epoch 19\n",
      "End epoch 19 - val_cost=0.2552132048985726\n",
      "Start epoch 20\n",
      "End epoch 20 - val_cost=0.25510266085887445\n",
      "Stopping after the validation cost wasn't changed: last_val_cost=0.2552132048985726, val_cost=0.25510266085887445 diff=0.00011054403969812387\n",
      "{'W': [array([[-0.01716884, -0.08099269,  0.00962652, ...,  0.08884185,\n",
      "         0.00490924, -0.026599  ],\n",
      "       [-0.06182764,  0.0291766 ,  0.0407925 , ..., -0.03799244,\n",
      "         0.0333709 ,  0.03726133],\n",
      "       [-0.00183138,  0.06988604,  0.11799948, ..., -0.01642681,\n",
      "         0.10628439, -0.0568214 ],\n",
      "       ...,\n",
      "       [ 0.01182612,  0.05030661,  0.0767706 , ..., -0.04705006,\n",
      "         0.00337799,  0.05815585],\n",
      "       [ 0.01454299, -0.03240686, -0.0070107 , ..., -0.01731368,\n",
      "         0.08848662,  0.00644807],\n",
      "       [ 0.04416231,  0.06647468, -0.00571777, ...,  0.00843463,\n",
      "         0.02592086, -0.03753941]]), array([[ 0.25650179, -0.24512177, -0.18259401, -0.43520902,  0.17927692,\n",
      "         0.62459527,  0.36491544, -0.79473827,  0.18142803, -0.41371095,\n",
      "        -1.17827465,  0.54415698, -0.03170695,  0.59721086,  0.04268277,\n",
      "         1.3691812 ,  0.29733322, -0.38417115,  0.63603437, -0.05321722],\n",
      "       [ 0.55999421,  1.21169191, -0.55724987,  0.39117457, -0.26886394,\n",
      "         0.09508004,  0.17496779,  0.49021832, -0.09219473,  0.04911925,\n",
      "         0.49154793,  0.04273031, -0.22213769, -0.07611665,  0.33593807,\n",
      "        -0.05416562, -0.35111802, -0.2382078 , -0.0118094 ,  0.18061683],\n",
      "       [ 0.21506211, -0.79232259, -0.25192134, -0.31305719,  1.01661985,\n",
      "        -0.61777511, -0.01904297,  0.41782037,  0.66149468,  0.27183812,\n",
      "        -0.43408907, -0.65615254, -0.58586969,  0.41548169, -0.5108821 ,\n",
      "        -0.50845416, -0.04186653, -0.28776144,  0.07718411, -0.06847245],\n",
      "       [ 0.19968093,  0.49354799,  0.0284694 ,  0.20146162,  0.67366695,\n",
      "         0.84824994,  0.2273057 ,  0.6100971 ,  0.16338865,  0.79226282,\n",
      "        -0.08743463, -0.3957053 , -0.12474726,  0.53172005,  0.61568871,\n",
      "         0.29614448, -0.53176208, -0.22620692,  1.41365779,  0.16364833],\n",
      "       [ 0.62724115,  0.11309131,  0.34908633, -0.91897568,  0.7980548 ,\n",
      "        -0.28371045, -0.45315381,  0.05477922,  1.16888995,  0.11195439,\n",
      "         0.28204616,  0.72522147, -0.34497183,  0.09494733,  0.13956652,\n",
      "         0.17981222, -0.30668176,  0.08322507, -0.45860787, -0.3378063 ],\n",
      "       [-0.72376276, -0.15587568, -0.25726709,  0.42918857,  0.13559255,\n",
      "         0.31775258, -0.4803948 ,  0.42022765,  0.40012479, -0.2427024 ,\n",
      "        -0.18409763,  0.32632966, -1.11357324, -0.25599981,  0.85877689,\n",
      "         0.43961619,  0.43166782,  0.43405187,  0.085351  , -0.72273809],\n",
      "       [ 0.03864417,  0.38646181,  0.48250867,  0.33406319,  0.03237113,\n",
      "        -0.82258575,  0.31699224, -0.46331184,  0.03187075, -0.29504194,\n",
      "        -0.50426612,  0.29103461,  0.8304464 , -0.39361498, -0.60074124,\n",
      "         0.57356443,  0.15445953,  0.44049286,  0.02765092,  0.35626118]]), array([[ 1.60416759,  0.57675777,  0.04411506,  0.53494071, -0.09736333,\n",
      "        -1.07855613,  0.78704902],\n",
      "       [ 1.03956345, -0.88724344, -1.12575992,  1.37127926, -0.03248698,\n",
      "         1.42890749, -1.40489222],\n",
      "       [-0.09485431,  0.02416859,  0.18532339, -0.25349079, -0.26829804,\n",
      "         0.21139521, -0.53471172],\n",
      "       [ 0.22431563,  1.19792058,  0.58078946,  0.80768133,  1.49061396,\n",
      "        -0.59294786, -0.32204735],\n",
      "       [ 1.00749275, -0.75077376,  0.71579489, -1.34374888,  1.2562831 ,\n",
      "         0.86912255,  0.25979242]]), array([[ 0.83741427, -1.59314256,  0.26504469,  0.11016677,  0.90700566],\n",
      "       [-0.68449688,  1.78740887, -0.07468707, -1.25248709, -0.26339867],\n",
      "       [-1.25337797, -0.63988469, -0.62294086, -0.7397509 ,  2.26418024],\n",
      "       [ 1.83762386, -0.4882867 , -0.15249633, -0.31108148, -0.65987799],\n",
      "       [-0.48063055, -0.21609633,  0.49885779,  0.65089394,  0.88089156],\n",
      "       [ 1.35055393,  0.46215705,  0.42657578,  0.52469622, -1.24953165],\n",
      "       [-0.60578427, -1.49691798,  0.46950161,  1.32617578,  0.49016216],\n",
      "       [-0.06255685,  0.28098194,  0.11687248,  1.7056001 , -1.27724195],\n",
      "       [ 0.79206809,  0.53096953,  0.84506738, -1.22155837,  0.83946942],\n",
      "       [-0.19758835,  0.99036419, -0.67476307,  0.01237114,  0.28161447]])], 'b': [array([[ 0.440961  ],\n",
      "       [-0.17607134],\n",
      "       [ 0.02983594],\n",
      "       [-0.14732168],\n",
      "       [ 0.33629489],\n",
      "       [ 0.16086679],\n",
      "       [-0.17659541],\n",
      "       [ 0.03464364],\n",
      "       [ 0.27902168],\n",
      "       [ 0.14587645],\n",
      "       [ 0.12144736],\n",
      "       [ 0.20126356],\n",
      "       [-0.35206305],\n",
      "       [ 0.13818101],\n",
      "       [ 0.02300567],\n",
      "       [ 0.72903091],\n",
      "       [-0.10532492],\n",
      "       [ 0.10319354],\n",
      "       [ 0.10725662],\n",
      "       [-0.08208459]]), array([[ 0.3057081 ],\n",
      "       [-0.21318994],\n",
      "       [-0.03455134],\n",
      "       [ 0.09150807],\n",
      "       [ 0.27558146],\n",
      "       [ 0.23167491],\n",
      "       [ 0.16512164]]), array([[-0.23364546],\n",
      "       [-0.18650448],\n",
      "       [-0.06297269],\n",
      "       [-0.1833481 ],\n",
      "       [ 0.49901676]]), array([[-0.85568371],\n",
      "       [ 0.46244144],\n",
      "       [ 1.22229807],\n",
      "       [ 1.13261438],\n",
      "       [-1.01605347],\n",
      "       [-0.52824295],\n",
      "       [ 1.23955725],\n",
      "       [-0.46711662],\n",
      "       [-0.44881073],\n",
      "       [-0.74100366]])]}\n"
     ]
    }
   ],
   "source": [
    "learning_rate = .009\n",
    "layers = [784, 20, 7, 5, 10]\n",
    "batch_size = 32\n",
    "\n",
    "params, c = L_layer_model(x_train, y_train, layers, learning_rate, 100, batch_size, stop_eps=0.0001)"
   ],
   "metadata": {
    "collapsed": false,
    "ExecuteTime": {
     "start_time": "2023-04-05T00:41:30.192414Z",
     "end_time": "2023-04-05T00:43:00.798334Z"
    }
   }
  },
  {
   "cell_type": "markdown",
   "source": [
    "## Final accuracy of the test set"
   ],
   "metadata": {
    "collapsed": false
   }
  },
  {
   "cell_type": "code",
   "execution_count": 23,
   "outputs": [
    {
     "name": "stdout",
     "output_type": "stream",
     "text": [
      "Test accuracy 93.27%\n"
     ]
    }
   ],
   "source": [
    "acc = predict(x_test, y_test, params) * 100\n",
    "print(f\"Test accuracy {acc:.2f}%\")"
   ],
   "metadata": {
    "collapsed": false,
    "ExecuteTime": {
     "start_time": "2023-04-05T01:36:57.888850Z",
     "end_time": "2023-04-05T01:36:59.410066Z"
    }
   }
  }
 ]
}
