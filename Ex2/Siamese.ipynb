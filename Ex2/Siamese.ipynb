{
  "nbformat": 4,
  "nbformat_minor": 0,
  "metadata": {
    "colab": {
      "provenance": [],
      "authorship_tag": "ABX9TyNbofK8O9AnE/HIoC6m0WS9"
    },
    "kernelspec": {
      "name": "python3",
      "display_name": "Python 3"
    },
    "language_info": {
      "name": "python"
    }
  },
  "cells": [
    {
      "cell_type": "code",
      "execution_count": 1,
      "metadata": {
        "id": "URZY9lTpcF3X"
      },
      "outputs": [],
      "source": [
        "import tensorflow as tf\n",
        "from tensorflow import keras\n",
        "import numpy as np"
      ]
    },
    {
      "cell_type": "markdown",
      "source": [
        "Simaese single model"
      ],
      "metadata": {
        "id": "I-m2PNZ0bMpD"
      }
    },
    {
      "cell_type": "code",
      "source": [
        "x = keras.Input(shape=(105,105, 1))\n",
        "\n",
        "layer1 = keras.layers.Conv2D(64, 10, activation='relu')(x)\n",
        "layer2 = keras.layers.MaxPool2D(strides=2)(layer1)\n",
        "layer3 = keras.layers.Conv2D(128, 7, activation='relu')(layer2)\n",
        "layer4 = keras.layers.MaxPool2D(strides=2)(layer3)\n",
        "layer5 = keras.layers.Conv2D(128, 4, activation='relu')(layer4)\n",
        "layer6 = keras.layers.MaxPool2D(strides=2)(layer5)\n",
        "layer7 = keras.layers.Conv2D(256, 4, activation='relu')(layer6)\n",
        "layer7 = keras.layers.Flatten()(layer7)\n",
        "layer8 = keras.layers.Dense(4096, 'sigmoid')(layer7)\n",
        "\n",
        "embedding = keras.Model(inputs=x, outputs=layer8, name='embedding')\n",
        "embedding.summary()"
      ],
      "metadata": {
        "colab": {
          "base_uri": "https://localhost:8080/"
        },
        "id": "3Pe73opzcNK8",
        "outputId": "77d3387f-fc2f-4125-a074-d725e50d23c9"
      },
      "execution_count": 23,
      "outputs": [
        {
          "output_type": "stream",
          "name": "stdout",
          "text": [
            "Model: \"embedding\"\n",
            "_________________________________________________________________\n",
            " Layer (type)                Output Shape              Param #   \n",
            "=================================================================\n",
            " input_22 (InputLayer)       [(None, 105, 105, 1)]     0         \n",
            "                                                                 \n",
            " conv2d_45 (Conv2D)          (None, 96, 96, 64)        6464      \n",
            "                                                                 \n",
            " max_pooling2d_29 (MaxPoolin  (None, 48, 48, 64)       0         \n",
            " g2D)                                                            \n",
            "                                                                 \n",
            " conv2d_46 (Conv2D)          (None, 42, 42, 128)       401536    \n",
            "                                                                 \n",
            " max_pooling2d_30 (MaxPoolin  (None, 21, 21, 128)      0         \n",
            " g2D)                                                            \n",
            "                                                                 \n",
            " conv2d_47 (Conv2D)          (None, 18, 18, 128)       262272    \n",
            "                                                                 \n",
            " max_pooling2d_31 (MaxPoolin  (None, 9, 9, 128)        0         \n",
            " g2D)                                                            \n",
            "                                                                 \n",
            " conv2d_48 (Conv2D)          (None, 6, 6, 256)         524544    \n",
            "                                                                 \n",
            " flatten_3 (Flatten)         (None, 9216)              0         \n",
            "                                                                 \n",
            " dense_2 (Dense)             (None, 4096)              37752832  \n",
            "                                                                 \n",
            "=================================================================\n",
            "Total params: 38,947,648\n",
            "Trainable params: 38,947,648\n",
            "Non-trainable params: 0\n",
            "_________________________________________________________________\n",
            "None\n"
          ]
        }
      ]
    },
    {
      "cell_type": "code",
      "source": [
        "x1 = keras.Input(shape=(105,105, 1))\n",
        "x2 = keras.Input(shape=(105,105, 1))\n",
        "\n",
        "x1_emb = embedding(x1)\n",
        "x2_emb = embedding(x2)\n",
        "\n",
        "diff = tf.math.abs(x1_emb - x2_emb)\n",
        "final_layer = keras.layers.Dense(1, 'sigmoid')(diff)\n",
        "\n",
        "siamese_model = keras.Model(inputs=[x1, x2], outputs=final_layer, name='SiameseModel')\n",
        "\n",
        "siamese_model.summary()"
      ],
      "metadata": {
        "colab": {
          "base_uri": "https://localhost:8080/"
        },
        "id": "R6_REsLWcY6s",
        "outputId": "40e4fe52-7244-4587-eb85-2484b6a544b4"
      },
      "execution_count": 25,
      "outputs": [
        {
          "output_type": "stream",
          "name": "stdout",
          "text": [
            "Model: \"SiameseModel\"\n",
            "__________________________________________________________________________________________________\n",
            " Layer (type)                   Output Shape         Param #     Connected to                     \n",
            "==================================================================================================\n",
            " input_25 (InputLayer)          [(None, 105, 105, 1  0           []                               \n",
            "                                )]                                                                \n",
            "                                                                                                  \n",
            " input_26 (InputLayer)          [(None, 105, 105, 1  0           []                               \n",
            "                                )]                                                                \n",
            "                                                                                                  \n",
            " embedding (Functional)         (None, 4096)         38947648    ['input_25[0][0]',               \n",
            "                                                                  'input_26[0][0]']               \n",
            "                                                                                                  \n",
            " tf.math.subtract_1 (TFOpLambda  (None, 4096)        0           ['embedding[2][0]',              \n",
            " )                                                                'embedding[3][0]']              \n",
            "                                                                                                  \n",
            " tf.math.abs_1 (TFOpLambda)     (None, 4096)         0           ['tf.math.subtract_1[0][0]']     \n",
            "                                                                                                  \n",
            " dense_4 (Dense)                (None, 1)            4097        ['tf.math.abs_1[0][0]']          \n",
            "                                                                                                  \n",
            "==================================================================================================\n",
            "Total params: 38,951,745\n",
            "Trainable params: 38,951,745\n",
            "Non-trainable params: 0\n",
            "__________________________________________________________________________________________________\n"
          ]
        }
      ]
    },
    {
      "cell_type": "code",
      "source": [
        "# TODO: compile the model according to the loss function and optimizations."
      ],
      "metadata": {
        "id": "OrJS6xNOommC"
      },
      "execution_count": 26,
      "outputs": []
    },
    {
      "cell_type": "markdown",
      "source": [
        "hyper parameters"
      ],
      "metadata": {
        "id": "EQ2-ebILpUht"
      }
    },
    {
      "cell_type": "code",
      "source": [
        "batch_size = 128\n",
        "epochs = 200"
      ],
      "metadata": {
        "id": "uQr6f9hjpWu0"
      },
      "execution_count": null,
      "outputs": []
    },
    {
      "cell_type": "code",
      "source": [
        "callback = keras.callbacks.EarlyStopping(patience=10)\n",
        "\n",
        "siamese_model.fit(\"X\", \"Y\", batch_size=batch_size, epochs=epochs, callbacks=[callback], validation_data=\"VAL\")  # TODO: add the correct datasets"
      ],
      "metadata": {
        "id": "2Ktcm2Nhot47"
      },
      "execution_count": null,
      "outputs": []
    }
  ]
}