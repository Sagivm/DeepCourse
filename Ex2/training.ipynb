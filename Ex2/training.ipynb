{
 "cells": [
  {
   "cell_type": "code",
   "execution_count": 5,
   "metadata": {
    "ExecuteTime": {
     "start_time": "2023-04-23T22:21:13.935475Z",
     "end_time": "2023-04-23T22:21:13.966779Z"
    }
   },
   "outputs": [],
   "source": [
    "import tensorflow as tf\n",
    "from siamese_model import build_siamese_model\n",
    "from util.format_dataset import format_dataset, create_dataset"
   ]
  },
  {
   "cell_type": "code",
   "execution_count": 8,
   "metadata": {
    "ExecuteTime": {
     "start_time": "2023-04-23T22:28:29.887011Z",
     "end_time": "2023-04-23T22:28:29.973819Z"
    }
   },
   "outputs": [],
   "source": [
    "pairs = format_dataset('pairsDevTrain.txt')\n",
    "count = len(pairs)\n",
    "d = create_dataset(pairs)\n",
    "d = d.shuffle(3)\n",
    "val_ds = d.take(int(count * 0.2)).batch(128)\n",
    "train_ds = d.skip(int(count * 0.2)).batch(128)"
   ]
  },
  {
   "cell_type": "code",
   "execution_count": 3,
   "outputs": [
    {
     "name": "stdout",
     "output_type": "stream",
     "text": [
      "Model: \"SiameseModel\"\n",
      "__________________________________________________________________________________________________\n",
      " Layer (type)                   Output Shape         Param #     Connected to                     \n",
      "==================================================================================================\n",
      " input_1 (InputLayer)           [(None, 250, 250, 3  0           []                               \n",
      "                                )]                                                                \n",
      "                                                                                                  \n",
      " input_2 (InputLayer)           [(None, 250, 250, 3  0           []                               \n",
      "                                )]                                                                \n",
      "                                                                                                  \n",
      " sequential (Sequential)        (None, 2048)         3045056     ['input_1[0][0]',                \n",
      "                                                                  'input_2[0][0]']                \n",
      "                                                                                                  \n",
      " tf.math.subtract (TFOpLambda)  (None, 2048)         0           ['sequential[0][0]',             \n",
      "                                                                  'sequential[1][0]']             \n",
      "                                                                                                  \n",
      " tf.math.abs (TFOpLambda)       (None, 2048)         0           ['tf.math.subtract[0][0]']       \n",
      "                                                                                                  \n",
      " dense_1 (Dense)                (None, 1)            2049        ['tf.math.abs[0][0]']            \n",
      "                                                                                                  \n",
      "==================================================================================================\n",
      "Total params: 3,047,105\n",
      "Trainable params: 3,047,105\n",
      "Non-trainable params: 0\n",
      "__________________________________________________________________________________________________\n"
     ]
    }
   ],
   "source": [
    "model = build_siamese_model((250,250,3))\n",
    "model.summary()"
   ],
   "metadata": {
    "collapsed": false,
    "ExecuteTime": {
     "start_time": "2023-04-23T22:18:35.964924Z",
     "end_time": "2023-04-23T22:18:36.302446Z"
    }
   }
  },
  {
   "cell_type": "code",
   "execution_count": 9,
   "outputs": [],
   "source": [
    "opt = tf.keras.optimizers.SGD(learning_rate=0.001, momentum=0.5)\n",
    "# opt = Adam(learning_rate=0.01)\n",
    "model.compile(loss='binary_crossentropy', optimizer=opt, metrics=['accuracy'])"
   ],
   "metadata": {
    "collapsed": false,
    "ExecuteTime": {
     "start_time": "2023-04-23T23:02:16.643304Z",
     "end_time": "2023-04-23T23:02:16.674613Z"
    }
   }
  },
  {
   "cell_type": "code",
   "execution_count": null,
   "outputs": [],
   "source": [
    "\n",
    "model.fit(\n",
    "            train_ds,\n",
    "            epochs=200,\n",
    "            validation_data=val_ds,\n",
    "            callbacks=[tf.keras.callbacks.EarlyStopping(patience=20)]\n",
    ")"
   ],
   "metadata": {
    "collapsed": false
   }
  }
 ],
 "metadata": {
  "kernelspec": {
   "display_name": "Python 3 (ipykernel)",
   "language": "python",
   "name": "python3"
  },
  "language_info": {
   "codemirror_mode": {
    "name": "ipython",
    "version": 3
   },
   "file_extension": ".py",
   "mimetype": "text/x-python",
   "name": "python",
   "nbconvert_exporter": "python",
   "pygments_lexer": "ipython3",
   "version": "3.10.2"
  }
 },
 "nbformat": 4,
 "nbformat_minor": 1
}
